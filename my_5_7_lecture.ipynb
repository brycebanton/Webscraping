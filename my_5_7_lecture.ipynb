{
 "cells": [
  {
   "cell_type": "markdown",
   "metadata": {},
   "source": [
    "<font color=\"red\"> Exercise 1 </font>\n",
    "\n",
    "Load the [binomial simulation app](https://wsu-datascience.github.io/binomial_simulation/index.html) in a browser and inspect some elements.  Verify that our usual technique failed to load the elements you find on the page."
   ]
  },
  {
   "cell_type": "code",
   "execution_count": 1,
   "metadata": {},
   "outputs": [],
   "source": [
    "import requests\n",
    "from bs4 import BeautifulSoup\n",
    "\n",
    "s = requests.Session()\n",
    "r = s.get('https://wsu-datascience.github.io/binomial_simulation/index.html')\n",
    "binom_sim = BeautifulSoup(r.content, 'html.parser')"
   ]
  },
  {
   "cell_type": "code",
   "execution_count": 2,
   "metadata": {
    "scrolled": true
   },
   "outputs": [
    {
     "data": {
      "text/plain": [
       "<!DOCTYPE html>\n",
       "\n",
       "<html lang=\"en\">\n",
       "<head>\n",
       "<title>Binomial Simulation</title>\n",
       "</head>\n",
       "<link crossorigin=\"anonymous\" href=\"https://cdnjs.cloudflare.com/ajax/libs/KaTeX/0.7.1/katex.min.css\" integrity=\"sha384-wITovz90syo1dJWVh32uuETPVEtGigN07tkttEqPv+uR2SE/mbQcG7ATL28aI9H0\" rel=\"stylesheet\"/>\n",
       "<style>\n",
       "    /* LaTeX display environment will effect the LaTeX characters but not the layout on the page */\n",
       "    span.katex-display {\n",
       "      display: inherit; /* You may comment this out if you want the default behavior */\n",
       "    }\n",
       "  </style>\n",
       "<script crossorigin=\"anonymous\" integrity=\"sha384-/y1Nn9+QQAipbNQWU65krzJralCnuOasHncUFXGkdwntGeSvQicrYkiUBwsgUqc1\" src=\"https://cdnjs.cloudflare.com/ajax/libs/KaTeX/0.7.1/katex.min.js\"></script>\n",
       "<script crossorigin=\"anonymous\" integrity=\"sha384-dq1/gEHSxPZQ7DdrM82ID4YVol9BYyU7GbWlIwnwyPzotpoc57wDw/guX8EaYGPx\" src=\"https://cdnjs.cloudflare.com/ajax/libs/KaTeX/0.7.1/contrib/auto-render.min.js\"></script>\n",
       "<!-- These scripts link to the Vega-Lite runtime -->\n",
       "<script src=\"https://cdn.jsdelivr.net/npm/vega@3\"></script>\n",
       "<script src=\"https://cdn.jsdelivr.net/npm/vega-lite@2\"></script>\n",
       "<script src=\"https://cdn.jsdelivr.net/npm/vega-embed@3\"></script>\n",
       "<script src=\"main.js\"></script>\n",
       "\n",
       "<body>\n",
       "<div id=\"elm\"></div>\n",
       "<script>\n",
       "    var app = Elm.Main.init({\n",
       "       node: document.getElementById('elm')\n",
       "    }); setTimeout(function () {\n",
       "      renderMathInElement(document.body, {delimiters: [{left: \"$begin-inline$\", right: \"$end-inline$\", display: false},{left: \"$begin-display$\", right: \"$end-display$\", display: true}]});\n",
       "    }, 0);\n",
       "\n",
       "    var requestAnimationFrame = window.requestAnimationFrame || window.mozRequestAnimationFrame || window.webkitRequestAnimationFrame || window.msRequestAnimationFrame;\n",
       "\n",
       "  let updateSamplePlot = function(spec){\n",
       "    console.log(spec);\n",
       "    requestAnimationFrame(function(){\n",
       "      vegaEmbed(\"#samplePlot\", spec, {actions: false}).catch(console.warn);\n",
       "      });\n",
       "   }\n",
       "\n",
       "  let updateDistPlot = function(spec){\n",
       "    console.log(spec);\n",
       "    requestAnimationFrame(function(){\n",
       "      vegaEmbed(\"#distPlot\", spec, {actions: false}).catch(console.warn);\n",
       "      });\n",
       "   }\n",
       "\n",
       "    app.ports.samplePlotToJS.subscribe(updateSamplePlot);\n",
       "    app.ports.distPlotToJS.subscribe(updateDistPlot);\n",
       "</script>\n",
       "</body>\n",
       "</html>"
      ]
     },
     "execution_count": 2,
     "metadata": {},
     "output_type": "execute_result"
    }
   ],
   "source": [
    "binom_sim"
   ]
  },
  {
   "cell_type": "markdown",
   "metadata": {},
   "source": [
    "There are no other classes like <a> in binom_sim except for the div classes. This will not allow our normal webscraping to work"
   ]
  },
  {
   "cell_type": "code",
   "execution_count": 4,
   "metadata": {},
   "outputs": [],
   "source": [
    "from composablesoup import find, find_all, get_text, has_attr\n",
    "from composable.sequence import slice, head\n",
    "from composable.strict import map, filter\n",
    "from composable.string import replace,split\n",
    "from composable import from_toolz as tlz\n",
    "from composable import pipeable\n",
    "from composablesoup.soup import find_parent, parents, children, find_previous_sibling, find_previous_siblings, find_next_sibling, find_next_siblings, find_previous_sibling\n",
    "import re"
   ]
  },
  {
   "cell_type": "code",
   "execution_count": 18,
   "metadata": {},
   "outputs": [
    {
     "ename": "SyntaxError",
     "evalue": "invalid syntax (<ipython-input-18-ce4e888d53e7>, line 2)",
     "output_type": "error",
     "traceback": [
      "\u001b[0;36m  File \u001b[0;32m\"<ipython-input-18-ce4e888d53e7>\"\u001b[0;36m, line \u001b[0;32m2\u001b[0m\n\u001b[0;31m    >>find_all('div', attrs = (\"class\":'container'))\u001b[0m\n\u001b[0m                                      ^\u001b[0m\n\u001b[0;31mSyntaxError\u001b[0m\u001b[0;31m:\u001b[0m invalid syntax\n"
     ]
    }
   ],
   "source": []
  },
  {
   "cell_type": "code",
   "execution_count": 31,
   "metadata": {},
   "outputs": [
    {
     "name": "stdout",
     "output_type": "stream",
     "text": [
      "Requirement already satisfied: selenium in /home/vn6415dw/.pyenv/versions/anaconda3-2020.02/lib/python3.7/site-packages (3.141.0)\n",
      "Requirement already satisfied: urllib3 in /home/vn6415dw/.pyenv/versions/anaconda3-2020.02/lib/python3.7/site-packages (from selenium) (1.25.8)\n"
     ]
    }
   ],
   "source": [
    "!pip install selenium"
   ]
  },
  {
   "cell_type": "code",
   "execution_count": 3,
   "metadata": {},
   "outputs": [],
   "source": [
    "from selenium import webdriver\n",
    "\n",
    "DRIVER_PATH = '/mnt/c/Users/vn6415dw/Desktop/chromedriver.exe'\n",
    "driver = webdriver.Chrome(executable_path= DRIVER_PATH)\n",
    "driver.get('https://duckduckgo.com/')"
   ]
  },
  {
   "cell_type": "code",
   "execution_count": 4,
   "metadata": {},
   "outputs": [
    {
     "data": {
      "text/plain": [
       "'<html class=\"js no-touch opacity csstransforms3d csstransitions svg cssfilters is-not-mobile-device full-urls dark-header dark-bg is-atb-fullbleed\" lang=\"en_US\"><!--<![endif]--><head>\\n\\t<meta http-equiv=\"X-UA-Compatible\" content=\"IE=Edge\">\\n<meta http-equiv=\"content-type\" content=\"text/html; charset=UTF-8;charset=utf-8\">\\n<meta name=\"viewport\" content=\"width=device-width, initial-scale=1, user-scalable=1\">\\n<meta name=\"HandheldFriendly\" content=\"true\">\\n\\n<link rel=\"canonical\" href=\"https://duckduckgo.com/\">\\n\\n<link rel=\"stylesheet\" href=\"/s1936.css\" type=\"text/css\">\\n\\n<link rel=\"stylesheet\" href=\"/o1936.css\" type=\"text/css\">\\n\\n\\n\\n<link rel=\"preload\" href=\"/font/ProximaNova-Reg-webfont.woff2\" as=\"font\" type=\"font/woff2\" crossorigin=\"anonymous\">\\n<link rel=\"preload\" href=\"/font/ProximaNova-Sbold-webfont.woff2\" as=\"font\" type=\"font/woff2\" crossorigin=\"anonymous\">\\n<link rel=\"preload\" href=\"/font/ProximaNova-ExtraBold-webfont.woff2\" as=\"font\" type=\"font/woff2\" crossorigin=\"anonymous\">\\n\\n<link rel=\"shortcut icon\" href=\"/favicon.ico\" type=\"image/x-icon\">\\n<link rel=\"apple-touch-icon\" href=\"/assets/icons/meta/DDG-iOS-icon_60x60.png\">\\n<link rel=\"apple-touch-icon\" sizes=\"76x76\" href=\"/assets/icons/meta/DDG-iOS-icon_76x76.png\">\\n<link rel=\"apple-touch-icon\" sizes=\"120x120\" href=\"/assets/icons/meta/DDG-iOS-icon_120x120.png\">\\n<link rel=\"apple-touch-icon\" sizes=\"152x152\" href=\"/assets/icons/meta/DDG-iOS-icon_152x152.png\">\\n<link rel=\"image_src\" href=\"/assets/icons/meta/DDG-icon_256x256.png\">\\n<link rel=\"manifest\" href=\"/manifest.json\">\\n\\n<meta name=\"twitter:card\" content=\"summary\">\\n<meta name=\"twitter:site\" value=\"@duckduckgo\">\\n\\n<meta property=\"og:url\" content=\"https://duckduckgo.com/\">\\n<meta property=\"og:site_name\" content=\"DuckDuckGo\">\\n<meta property=\"og:image\" content=\"https://duckduckgo.com/assets/logo_social-media.png\">\\n\\n\\n\\t<title>DuckDuckGo — Privacy, simplified.</title>\\n<meta property=\"og:title\" content=\"DuckDuckGo — Privacy, simplified.\">\\n\\n\\n<meta property=\"og:description\" content=\"The Internet privacy company that empowers you to seamlessly take control of your personal information online, without any tradeoffs.\">\\n<meta name=\"description\" content=\"The Internet privacy company that empowers you to seamlessly take control of your personal information online, without any tradeoffs.\">\\n\\n\\n<link title=\"DuckDuckGo\" type=\"application/opensearchdescription+xml\" rel=\"search\" href=\"https://duckduckgo.com/opensearch.xml?atb=v246-3__\"><script type=\"application/ld+json\">{\"@context\":\"https://schema.org\",\"@type\":\"Organization\",\"name\":\"DuckDuckGo\",\"url\":\"http://duckduckgo.com/\",\"logo\":\"https://duckduckgo.com/assets/logo_social-media.png\"}</script><link rel=\"chrome-webstore-item\" href=\"https://chrome.google.com/webstore/detail/bkdgflcldnnnapblkhphbgpggdiikppg\"></head>\\n<body id=\"pg-index\" class=\"page-index body--home body--onboarding\">\\n\\t<script type=\"text/javascript\">\\nvar settings_js_version = \"/s2477.js\",\\n    locale = \"en_US\";\\n</script>\\n<script type=\"text/javascript\" src=\"/lib/l118.js\"></script>\\n<script type=\"text/javascript\" src=\"/locale/en_US/duckduckgo14.js\"></script>\\n<script type=\"text/javascript\" src=\"/util/u499.js\"></script>\\n<script type=\"text/javascript\" src=\"/d2873.js\"></script>\\n\\n\\n\\n<script type=\"text/javascript\">\\n    DDG.page = new DDG.Pages.Home();\\n</script>\\n\\n\\n\\n\\t<div class=\"site-wrapper  site-wrapper--home  js-site-wrapper\">\\n\\t\\n\\t\\t\\n\\t\\t\\t<div class=\"header-wrap--home  js-header-wrap\">\\n\\t<div class=\"header--aside js-header-aside\"><a class=\"header__button--menu  js-side-menu-open\" href=\"#\">⇶</a><div class=\"header--aside__item showcase header__label\"><span class=\"header__clickable js-hl-button\" data-type=\"showcase\"><span class=\"js-popout-trig\" aria-haspopup=\"true\" aria-label=\"Check out the list of things that we\\'ve also made.\" role=\"button\" aria-pressed=\"false\"><span id=\"wedonttrack\">Privacy, simplified.</span></span><span class=\"popout-trig  js-popout\"><span class=\"js-popout-link js-showcase-popout ddgsi ddgsi-down\" aria-hidden=\"true\" data-type=\"showcase\"></span><div class=\"modal modal--popout modal--popout--bottom-left modal--popout--sm  js-popout-main\" data-type=\"showcase\"><div class=\"modal__box\"><div class=\"modal__body\"><nav aria-labelledby=\"wedonttrack\"><section class=\"showcase__dropdown-top\"><ul aria-label=\"Here are some things that we made that you might like.\"><li class=\"fix showcase__dropdown__list\"><a href=\"/app\" class=\"eighteen js-hl-item\" aria-hidden=\"true\" data-type=\"showcase\" data-id=\"app\"><div class=\"woman-icon\"></div></a><a href=\"/app\" class=\"text-left showcase__link eighty js-hl-item\" data-type=\"showcase\" data-id=\"app\"><h1 class=\"showcase__heading\">Get Our App &amp; Extension</h1><p class=\"showcase__subheading\">Protect your data on every device.</p></a></li><li class=\"fix showcase__dropdown__list\"><a href=\"/newsletter\" class=\"eighteen js-hl-item\" aria-hidden=\"true\" data-type=\"showcase\" data-id=\"newsletter\"><div class=\"mailbox-icon\"></div></a><a href=\"/newsletter\" class=\"text-left showcase__link eighty js-hl-item\" data-type=\"showcase\" data-id=\"newsletter\"><h1 class=\"showcase__heading\">Privacy in Your Inbox</h1><p class=\"showcase__subheading\">Stay protected and informed with our privacy newsletters.</p></a></li><li class=\"fix showcase__dropdown__list\"><a href=\"https://spreadprivacy.com/tag/device-privacy-tips/\" class=\"eighteen js-hl-item\" aria-hidden=\"true\" data-type=\"showcase\" data-id=\"blog\"><div class=\"privacy-simplified-icon\"></div></a><a href=\"https://spreadprivacy.com/tag/device-privacy-tips/\" class=\"text-left showcase__link eighty js-hl-item\" data-type=\"showcase\" data-id=\"blog\"><h1 class=\"showcase__heading\">Protect Your Devices</h1><p class=\"showcase__subheading\">Check out our privacy device guides.</p></a></li><li class=\"fix showcase__dropdown__list\"><a href=\"https://duckduckgo.com/spread\" class=\"eighteen js-hl-item\" aria-hidden=\"true\" data-type=\"showcase\" data-id=\"spread\"><div class=\"spread-icon\"></div></a><a href=\"https://duckduckgo.com/spread\" class=\"text-left showcase__link eighty js-hl-item\" data-type=\"showcase\" data-id=\"spread\"><h1 class=\"showcase__heading\">Spread DuckDuckGo</h1><p class=\"showcase__subheading\">Help your friends and family join the Duck Side!</p></a></li></ul></section><section class=\"showcase__dropdown-bottom\"><ul class=\"text-left\" aria-label=\"We\\'ve got even more things for you.\"><li class=\"fix showcase__dropdown__list\"><a href=\"https://duckduckgo.com/donations\" class=\"eighteen showcase__icon js-hl-item\" aria-hidden=\"true\" data-type=\"showcase\" data-id=\"donations\"><div class=\"donations-icon\"></div></a><a href=\"https://duckduckgo.com/donations\" class=\"text-left showcase__link eighty showcase__text js-hl-item\" data-type=\"showcase\" data-id=\"donations\">$2,650,000 in privacy donations!</a></li><li class=\"fix showcase__dropdown__list\"><a href=\"https://duckduckgo.com/traffic\" class=\"eighteen showcase__icon js-hl-item\" aria-hidden=\"true\" data-type=\"showcase\" data-id=\"traffic\"><div class=\"traffic-icon\"></div></a><a href=\"https://duckduckgo.com/traffic\" class=\"text-left showcase__link eighty showcase__text js-hl-item\" data-type=\"showcase\" data-id=\"traffic\">Over 59 Billion anonymous searches.</a></li><li class=\"fix showcase__dropdown__list\"><a href=\"https://donttrack.us/\" class=\"eighteen showcase__icon js-hl-item\" aria-hidden=\"true\" data-type=\"showcase\" data-id=\"dnt\"><div class=\"privacy-tips-icon\"></div></a><a href=\"https://donttrack.us/\" class=\"text-left showcase__link eighty showcase__text js-hl-item\" data-type=\"showcase\" data-id=\"dnt\">Learn why reducing tracking is important.</a></li></ul></section></nav></div></div></div></span></span></div><div class=\"header--aside__item header--aside__social header__label social\"><span class=\"header__clickable js-hl-button\" data-type=\"social\"><span class=\"js-popout-trig header--aside__social-icon \" aria-haspopup=\"true\" aria-label=\"Keep in touch\" role=\"button\" aria-pressed=\"false\"><span class=\"ddgsi ddgsi-horn\" data-type=\"social\"></span></span><span class=\"popout-trig js-popout\"><span class=\"js-popout-link ddgsi ddgsi-down\" aria-hidden=\"true\" data-type=\"social\"></span><div class=\"modal modal--popout modal--popout--bottom-left modal--popout--sm  js-popout-main\" data-type=\"social\"><div class=\"modal__box\"><div class=\"modal__body\"><div class=\"social__link\"><a href=\"https://twitter.com/duckduckgo\" class=\"js-hl-item social__link__text\" data-type=\"social\" data-id=\"twitter\"><img class=\"social__icon js-lazysvg\" data-src=\"/assets/icons/header/twitter.svg\"><span>Twitter</span></a></div><div class=\"social__link\"><a href=\"https://reddit.com/r/duckduckgo\" class=\"js-hl-item social__link__text\" data-type=\"social\" data-id=\"reddit\"><img class=\"social__icon js-lazysvg\" data-src=\"/assets/icons/header/reddit.svg\"><span>Reddit</span></a></div><div class=\"social__link\"><a href=\"https://spreadprivacy.com\" class=\"js-hl-item social__link__text\" data-type=\"social\" data-id=\"blog\"><img class=\"social__icon js-lazysvg\" data-src=\"/assets/icons/header/blog.svg\"><span>Blog</span></a></div><div class=\"social__link\"><a href=\"https://duckduckgo.com/newsletter\" class=\"js-hl-item social__link__text\" data-type=\"social\" data-id=\"newsletter\"><img class=\"social__icon js-lazysvg\" data-src=\"/assets/icons/header/newsletter.svg\"><span>Newsletter</span></a></div></div></div></div></span></span></div></div>\\n</div>\\n\\t\\t\\t<div id=\"\" class=\"content-wrap--home\">\\n\\t\\t\\t\\t<div id=\"content_homepage\" class=\"content--home\" style=\"visibility: visible;\">\\n\\t\\t\\t\\t\\t<div class=\"cw--c\">\\n\\t\\t\\t\\t\\t\\t\\t\\t<div class=\"logo-wrap--home\">\\n\\t\\t\\t<a id=\"logo_homepage_link\" class=\"logo_homepage\" href=\"/about\">\\n\\t\\t\\t\\tAbout DuckDuckGo\\n\\t\\t\\t\\t<span class=\"logo_homepage__tt\">Learn More</span>\\n\\t\\t\\t</a>\\n\\t\\t</div>\\n\\n\\t\\t\\t\\t\\t\\t<div class=\"search-wrap--home\">\\n\\t\\t\\t\\t\\t\\t\\t\\t\\t<form id=\"search_form_homepage\" class=\"search--home  js-search-form search--adv\" name=\"x\" method=\"GET\" action=\"/\">\\n\\t\\t\\t<input id=\"search_form_input_homepage\" class=\"js-search-input search__input--adv\" type=\"text\" autocomplete=\"off\" name=\"q\" tabindex=\"1\" value=\"\" autocapitalize=\"off\" autocorrect=\"off\" placeholder=\"Search the web without being tracked\">\\n\\t\\t\\t<input id=\"search_button_homepage\" class=\"search__button  js-search-button\" type=\"submit\" tabindex=\"2\" value=\"S\">\\n\\t\\t\\t<input id=\"search_form_input_clear\" class=\"search__clear  empty  js-search-clear\" type=\"button\" tabindex=\"3\" value=\"X\">\\n\\t\\t\\t<div id=\"search_elements_hidden\" class=\"search__hidden  js-search-hidden\"><input type=\"hidden\" class=\"js-search-hidden-field\" name=\"t\" value=\"h_\"></div>\\n\\t\\t<div class=\"search__autocomplete\" style=\"display: none;\"><div class=\"acp-wrap js-acp-wrap\"></div><div class=\"acp-footer is-hidden js-acp-footer\"><span class=\"acp-footer__instructions\">Shortcuts to other sites to search off DuckDuckGo</span><span class=\"acp-footer__link\"><a class=\"no-visited js-acp-footer-link\" href=\"/bang\">Learn More</a></span></div></div></form>\\n\\n\\t\\t\\t\\t\\t\\t</div>\\n\\t\\t\\n\\t\\n\\n\\t\\t\\t\\t\\t\\t<!-- en_US All Settings -->\\n<noscript>\\n    <div class=\"tag-home\">\\n        <div class=\"tag-home__wrapper\">\\n            <div class=\"tag-home__item\">\\n                Privacy, simplified&period;\\n                <span class=\"hide--screen-xs\"><a href=\"/about\" class=\"tag-home__link\">Learn More</a>.</span>\\n            </div>\\n        </div>\\n    </div>\\n</noscript>\\n<div class=\"tag-home  tag-home--slide  no-js__hide  js-tag-home\"><div class=\"tag-home__wrapper\"><div class=\"tag-home__item\">Privacy, simplified.<span class=\"hide--screen-xs\"> <a class=\"tag-home__link js-tag-item-link\" href=\"/spread\">Help Spread DuckDuckGo!</a></span></div></div></div>\\n<div id=\"error_homepage\"></div>\\n\\n\\n\\t\\n\\t\\t\\n\\t\\t\\t\\t\\t</div> <!-- cw -->\\n\\t\\t\\t\\t<div class=\"badge-link badge-link--full  js-badge-link\" lang=\"en\"><div class=\"badge-link__wrap js-badge-main-msg\"><div class=\"badge-link__content\"><h1 class=\"badge-link__title\">Tired of being tracked online? <span>We can help.</span></h1><p class=\"badge-link__subtitle\">Get seamless privacy protection on your browser for free with one download: </p><ol class=\"badge-link__bullets\"><li class=\"badge-link__bullet\"><svg class=\"check badge-link__bullet-check\" width=\"16\" height=\"16\" viewBox=\"0 0 16 16\" fill=\"none\" xmlns=\"http://www.w3.org/2000/svg\"><circle cx=\"8\" cy=\"8\" r=\"8\" fill=\"#678FFF\"></circle><path fill-rule=\"evenodd\" clip-rule=\"evenodd\" d=\"M4.45723 7.54277C4.0667 7.9333 4.0667 8.56646 4.45723 8.95698L5.88758 10.3873L5.88747 10.3875L6.5432 11.0432C6.95322 11.4532 7.62489 11.4297 8.00519 10.992L11.8251 6.59531C12.1687 6.19989 12.1479 5.60609 11.7775 5.23569C11.3684 4.82668 10.6984 4.85016 10.3191 5.28681L7.20253 8.87386L5.87144 7.54277C5.48092 7.15225 4.84775 7.15225 4.45723 7.54277Z\" fill=\"white\"></path></svg><span>private search</span></li><li class=\"badge-link__bullet\"><svg class=\"check badge-link__bullet-check\" width=\"16\" height=\"16\" viewBox=\"0 0 16 16\" fill=\"none\" xmlns=\"http://www.w3.org/2000/svg\"><circle cx=\"8\" cy=\"8\" r=\"8\" fill=\"#678FFF\"></circle><path fill-rule=\"evenodd\" clip-rule=\"evenodd\" d=\"M4.45723 7.54277C4.0667 7.9333 4.0667 8.56646 4.45723 8.95698L5.88758 10.3873L5.88747 10.3875L6.5432 11.0432C6.95322 11.4532 7.62489 11.4297 8.00519 10.992L11.8251 6.59531C12.1687 6.19989 12.1479 5.60609 11.7775 5.23569C11.3684 4.82668 10.6984 4.85016 10.3191 5.28681L7.20253 8.87386L5.87144 7.54277C5.48092 7.15225 4.84775 7.15225 4.45723 7.54277Z\" fill=\"white\"></path></svg><span>tracker blocking</span></li><li class=\"badge-link__bullet\"><svg class=\"check badge-link__bullet-check\" width=\"16\" height=\"16\" viewBox=\"0 0 16 16\" fill=\"none\" xmlns=\"http://www.w3.org/2000/svg\"><circle cx=\"8\" cy=\"8\" r=\"8\" fill=\"#678FFF\"></circle><path fill-rule=\"evenodd\" clip-rule=\"evenodd\" d=\"M4.45723 7.54277C4.0667 7.9333 4.0667 8.56646 4.45723 8.95698L5.88758 10.3873L5.88747 10.3875L6.5432 11.0432C6.95322 11.4532 7.62489 11.4297 8.00519 10.992L11.8251 6.59531C12.1687 6.19989 12.1479 5.60609 11.7775 5.23569C11.3684 4.82668 10.6984 4.85016 10.3191 5.28681L7.20253 8.87386L5.87144 7.54277C5.48092 7.15225 4.84775 7.15225 4.45723 7.54277Z\" fill=\"white\"></path></svg><span>site encryption</span></li></ol><div class=\"badge-link__btn-wrap\"><span class=\"badge-link__btn btn btn--primary js-badge-link-button\">Add DuckDuckGo to Chrome</span></div><a href=\"https://chrome.google.com/webstore/detail/bkdgflcldnnnapblkhphbgpggdiikppg/reviews\" target=\"_blank\" class=\"badge-link__rating\" title=\"Average rating: 4.4 out of 5\"><p class=\"badge-link__rating-wrap\"><span class=\"badge-link__rating__star\">★</span><span class=\"badge-link__rating__star\">★</span><span class=\"badge-link__rating__star\">★</span><span class=\"badge-link__rating__star\">★</span><span class=\"badge-link__rating__star--empty badge-link__rating__star--third\">★</span></p><span>Rated 4.4/5</span></a></div></div></div><div class=\"content-info\" lang=\"en\"><div class=\"content-info__title\">Privacy Protection For Any Device</div><div class=\"content-info__items \"><div class=\"content-info__items-wrap\"><div class=\"content-info__item\"><img class=\"content-info__item__icon\" src=\"/assets/add-to-browser/cppm/laptop.svg\" alt=\"a laptop with a lock on the screen and a red bird standing on it\"><div class=\"content-info__item__title\">Privacy for Chrome</div><div class=\"content-info__item__subtitle\">Browse as usual, and we\\'ll take care of the rest. We bundled our search engine, tracker blocker, and encryption enforcer into one <a href=\"https://duckduckgo.com/app\" target=\"_blank\" class=\"js-atb-tile-link content-info__item__link\" data-id=\"ext\">Chrome Extension</a>.</div></div><div class=\"content-info__item\"><img class=\"content-info__item__icon\" src=\"/assets/home/landing/icons/search.svg\" alt=\"purple magnifying glass with a gold lock in the middle\"><div class=\"content-info__item__title\">Private Search Engine</div><div class=\"content-info__item__subtitle\">Search privately with our app or extension, add private web search to your favorite browser, or search directly at <span class=\"content-info__item__link js-atb-tile-link js-scroll-top\" data-id=\"st\">duckduckgo.com</span>.</div></div><div class=\"content-info__item\"><img class=\"content-info__item__icon\" src=\"/assets/add-to-browser/cppm/mobile.svg\" alt=\"a mobile phone with a lock on the screen\"><div class=\"content-info__item__title\">Privacy Browser App</div><div class=\"content-info__item__subtitle\">Our private browser for mobile comes equipped with our search engine, tracker blocker, encryption enforcer, and more. Available on <a href=\"https://duckduckgo.com/app\" target=\"_blank\" class=\"content-info__item__link js-atb-tile-link\" data-id=\"app\">iOS &amp; Android</a>.</div></div></div><!-- Background Curve --><svg class=\"content-info__curve\" xmlns=\"http://www.w3.org/2000/svg\" viewBox=\"0 0 1438 134\"><path d=\"M1438 1442H0V31.001S438.105 0 719 .001c280.896 0 719 31 719 31V1442z\" fill=\"currentColor\"></path></svg></div></div></div> <!-- content_homepage //-->\\n\\t\\t\\t</div> <!-- content_wrapper_homepage //-->\\n\\t\\t\\t<div id=\"footer_homepage\" class=\"foot-home  js-foot-home\"></div>\\n\\n<script type=\"text/javascript\">\\n\\t{function seterr(str) {\\n\\t\\tvar error=document.getElementById(\\'error_homepage\\');\\n\\t\\terror.innerHTML=str;\\n\\t\\t$(error).css(\\'display\\',\\'block\\');\\n\\t}\\n\\tvar err=new RegExp(\\'[\\\\?\\\\&]e=([^\\\\&]+)\\');var errm=new Array();errm[\\'2\\']=\\'no search\\';errm[\\'3\\']=\\'search too long\\';errm[\\'4\\']=\\'not UTF\\\\u002d8 encoding\\';errm[\\'6\\']=\\'too many search terms\\';if (err.test(window.location.href)) seterr(\\'Oops, \\'+(errm[RegExp.$1]?errm[RegExp.$1]:\\'there was an error.\\')+\\' &nbsp;Please try again\\');};\\n\\t\\n\\tif (kurl) {\\n\\t  document.getElementById(\"logo_homepage_link\").href += (document.getElementById(\"logo_homepage_link\").href.indexOf(\\'?\\')==-1 ? \\'?t=i\\' : \\'\\') + kurl;\\n\\t}\\n</script>\\n\\n\\t\\t\\n\\t\\n\\t<div class=\"nav-menu--slideout\"><ul class=\"nav-menu__list\"><i class=\"nav-menu__close  js-side-menu-close\">X</i><ul class=\"nav-menu--theme\"><li class=\"nav-menu__heading\"><span>Settings</span></li><li class=\"nav-menu__item clear\"><a href=\"/settings#theme\" data-settings=\"1\">Themes</a></li><li class=\"nav-menu__item\"><a href=\"/settings\" tabindex=\"-1\" data-settings=\"1\">Other Settings</a></li><li class=\"nav-menu__item\"><a href=\"/bangs\">!Bang Search Shortcuts</a></li></ul><ul><li class=\"nav-menu__heading\"><span>Privacy Essentials</span></li><li class=\"nav-menu__item\"><a href=\"https://duckduckgo.com/\">Private Search</a></li><li class=\"nav-menu__item\"><a href=\"/app\">App and Extension</a></li></ul><ul><li class=\"nav-menu__heading\"><span>Why Privacy</span></li><li class=\"nav-menu__item\"><a href=\"https://spreadprivacy.com/\">Privacy Blog</a></li><li class=\"nav-menu__item\"><a href=\"https://duckduckgo.com/newsletter\">Privacy Crash Course</a></li><li class=\"nav-menu__item\"><a href=\"/spread\">Help Spread Privacy</a></li></ul><ul><li class=\"nav-menu__heading\"><span>Who We Are</span></li><li class=\"nav-menu__item\"><a href=\"/about\">About Us</a></li><li class=\"nav-menu__item\"><a href=\"/privacy\">Privacy Policy</a></li><li class=\"nav-menu__item\"><a href=\"/hiring\">Careers</a></li><li class=\"nav-menu__item\"><a href=\"/press\">Press Kit</a></li></ul><ul><li class=\"nav-menu__heading\"><span>Keep in Touch</span></li><li class=\"nav-menu__item\"><a href=\"https://twitter.com/duckduckgo\">Twitter</a></li><li class=\"nav-menu__item\"><a href=\"https://duckduckgo.merchmadeeasy.com/\">Store</a></li><li class=\"nav-menu__item\"><a href=\"https://reddit.com/r/duckduckgo\">Reddit</a></li><li class=\"nav-menu__item\"><a href=\"https://help.duckduckgo.com/\">Help</a></li></ul></ul></div><div class=\"onboarding-ed js-onboarding-ed onboarding-ed--faq\"><a class=\"onboarding-ed__arrow js-onboarding-ed-arrow\" style=\"display: none;\"><img src=\"/assets/onboarding/arrow.svg\" loading=\"lazy\" width=\"24\" height=\"24\"></a><div class=\"onboarding-ed__slide onboarding-ed__slide-1 js-onboarding-ed-slide js-onboarding-ed-slide-1\"><div class=\"onboarding-ed__content\"><h1 class=\"onboarding-ed__title js-onboarding-ed-balance-text\" style=\"\">We don’t store your<br data-owner=\"balance-text\">personal information. Ever.</h1><p class=\"onboarding-ed__subtitle js-onboarding-ed-balance-text\" style=\"\">Our privacy policy is simple: we don’t collect<br data-owner=\"balance-text\">or share any of your personal information.</p><div class=\"js-onboarding-ed-button-small-1\"><a class=\"btn onboarding-ed__button-small ddg-extension-hide\">Add DuckDuckGo to Chrome</a></div></div><div class=\"onboarding-ed__image-container js-onboarding-ed-image-container-1\"><img data-src=\"/assets/onboarding/bathroomguy/1-monster-v2--pre-animation.svg\" class=\"onboarding-ed__image--placeholder js-hp-lazysvg\" width=\"1200\" height=\"460\" loading=\"lazy\"></div></div><div class=\"onboarding-ed__slide onboarding-ed__slide-2 js-onboarding-ed-slide js-onboarding-ed-slide-2\"><div class=\"onboarding-ed__content onboarding-ed__content--more-shadow\"><h1 class=\"onboarding-ed__title js-onboarding-ed-balance-text\" style=\"\">We don’t follow you around with ads.</h1><p class=\"onboarding-ed__subtitle js-onboarding-ed-balance-text\" style=\"\">We don’t store your search history. We therefore have nothing to sell to advertisers that track you across the Internet.</p><div class=\"js-onboarding-ed-button-small-2\"><a class=\"btn onboarding-ed__button-small ddg-extension-hide\">Add DuckDuckGo to Chrome</a></div></div><div class=\"onboarding-ed__image-container js-onboarding-ed-image-container-2\"><img data-src=\"/assets/onboarding/bathroomguy/2-ghost-v2.svg\" class=\"onboarding-ed__image--placeholder js-hp-lazysvg\" width=\"1200\" height=\"460\" loading=\"lazy\" src=\"/assets/onboarding/bathroomguy/2-ghost-v2.svg\"></div></div><div class=\"onboarding-ed__slide onboarding-ed__slide-3 js-onboarding-ed-slide js-onboarding-ed-slide-3\"><div class=\"onboarding-ed__content\"><h1 class=\"onboarding-ed__title js-onboarding-ed-balance-text\" style=\"\">We don’t track you in or out of private browsing mode.</h1><p class=\"onboarding-ed__subtitle js-onboarding-ed-balance-text\" style=\"\">Other search engines track your searches even when you’re in private browsing mode. We don’t track you — period.</p><div class=\"js-onboarding-ed-button-small-3\"><a class=\"btn onboarding-ed__button-small ddg-extension-hide\">Add DuckDuckGo to Chrome</a></div></div><div class=\"onboarding-ed__image-container js-onboarding-ed-image-container-3\"><img data-src=\"/assets/onboarding/bathroomguy/3-bathtub-v2--no-animation.svg\" class=\"onboarding-ed__image--placeholder js-hp-lazysvg\" width=\"1200\" height=\"460\" loading=\"lazy\" src=\"/assets/onboarding/bathroomguy/3-bathtub-v2--no-animation.svg\"></div></div><div class=\"onboarding-ed__slide onboarding-ed__slide-4 js-onboarding-ed-slide js-onboarding-ed-slide-4\"><div class=\"onboarding-ed__close\"><span class=\"js-onboarding-ed-dismiss onboarding-ed__close-dismiss\">Dismiss forever</span><span class=\"ddgsi onboarding-ed__close-divider\">|</span> <span class=\"onboarding-ed__close-back js-onboarding-ed-back-to-search\">Back to search</span> </div><div class=\"onboarding-ed__content js-onboarding-ed-install\"><h1 class=\"onboarding-ed__title js-onboarding-ed-balance-text\" style=\"\">Switch to DuckDuckGo and take back your privacy!</h1><p class=\"onboarding-ed__subtitle js-onboarding-ed-balance-text\" style=\"\">No tracking, no ad targeting, just searching.</p><div class=\"js-onboarding-ed-button\"><a class=\"btn onboarding-ed__button ddg-extension-hide\">Add DuckDuckGo to Chrome</a></div></div><div class=\"onboarding-ed__content js-onboarding-ed-spread\" style=\"display:none\"><h1 class=\"onboarding-ed__title js-onboarding-ed-balance-text\" style=\"\">Already a fan?<br>Invite friends to the Duck Side!</h1><p class=\"onboarding-ed__subtitle js-onboarding-ed-balance-text\" style=\"\">Share DuckDuckGo and help friends take their privacy back!</p><div><a class=\"btn onboarding-ed__button onboarding-ed__tweet-button js-onboarding-ed-tweet-button\" target=\"_blank\" href=\"https://twitter.com/?status=DuckDuckGo%20is%20my%20search%20engine%20of%20choice.%20%23ComeToTheDuckSide%20-%20we%20have%20privacy.%20https%3A%2F%2Fduckduckgo.com%2F%231\">Tweet #ComeToTheDuckSide</a></div></div><div class=\"onboarding-ed__image-container js-onboarding-ed-image-container-4\"><img data-src=\"/assets/onboarding/bathroomguy/4-alpinist-v2.svg\" class=\"onboarding-ed__image--placeholder js-hp-lazysvg\" width=\"1200\" height=\"460\" loading=\"lazy\" src=\"/assets/onboarding/bathroomguy/4-alpinist-v2.svg\"></div></div></div><article id=\"faq\" class=\"faq\" vocab=\"https://schema.org/\" typeof=\"FAQPage\"><h2 property=\"name\" class=\"faq__title\">Frequently Asked Questions</h2><div class=\"faq__content\"><section class=\"js-faq-section faq__section\" property=\"mainEntity\" typeof=\"Question\"><header class=\"js-faq-header faq__header\" data-disabled=\"true\"><button class=\"faq__button\" aria-expanded=\"true\" aria-disabled=\"true\" aria-controls=\"faq-answer-0\" id=\"faq-btn-0\"><svg width=\"20\" height=\"21\" viewBox=\"0 0 20 21\" fill=\"none\" xmlns=\"http://www.w3.org/2000/svg\"><circle cx=\"10\" cy=\"10.5\" r=\"10\" transform=\"rotate(-180 10 10.5)\" fill=\"#E5E5E5\"></circle><path d=\"M9.94454 12.8483L13.5355 9.25736C13.7308 9.0621 14.0474 9.0621 14.2426 9.25736C14.4379 9.45262 14.4379 9.7692 14.2426 9.96447L10.3536 13.8536C10.2418 13.9653 10.0903 14.0131 9.94454 13.9969C9.79879 14.0131 9.64729 13.9653 9.53553 13.8536L5.64645 9.96447C5.45118 9.7692 5.45118 9.45262 5.64645 9.25736C5.84171 9.0621 6.15829 9.0621 6.35355 9.25736L9.94454 12.8483Z\" fill=\"#353748\"></path></svg></button><h3 class=\"faq__question\" property=\"name\">How does DuckDuckGo make money?</h3></header><div id=\"faq-answer-0\" role=\"region\" aria-labelledby=\"faq-btn-0\" class=\"js-faq-collapsible faq__collapsible\" data-collapsed=\"false\" property=\"acceptedAnswer\" typeof=\"Answer\"><div class=\"faq__answer\"><p property=\"text\">We make our money from private ads on our search engine. On other search engines, ads are based on profiles compiled about you using your personal information like search, browsing, and purchase history. Since we don’t collect that information, search ads on DuckDuckGo are based on the search results page you are viewing, not on you as a person. For example, if you search for cars, we’ll show you ads about cars.</p>&nbsp;<a property=\"url\" href=\"https://spreadprivacy.com/duckduckgo-revenue-model/\" target=\"_blank\" data-id=\"6-l\">Learn more</a>.</div></div></section><section class=\"js-faq-section faq__section\" property=\"mainEntity\" typeof=\"Question\"><header class=\"js-faq-header faq__header\" data-disabled=\"false\"><button class=\"faq__button\" aria-expanded=\"false\" aria-disabled=\"false\" aria-controls=\"faq-answer-1\" id=\"faq-btn-1\"><svg width=\"20\" height=\"21\" viewBox=\"0 0 20 21\" fill=\"none\" xmlns=\"http://www.w3.org/2000/svg\"><circle cx=\"10\" cy=\"10.5\" r=\"10\" transform=\"rotate(-180 10 10.5)\" fill=\"#E5E5E5\"></circle><path d=\"M9.94454 12.8483L13.5355 9.25736C13.7308 9.0621 14.0474 9.0621 14.2426 9.25736C14.4379 9.45262 14.4379 9.7692 14.2426 9.96447L10.3536 13.8536C10.2418 13.9653 10.0903 14.0131 9.94454 13.9969C9.79879 14.0131 9.64729 13.9653 9.53553 13.8536L5.64645 9.96447C5.45118 9.7692 5.45118 9.45262 5.64645 9.25736C5.84171 9.0621 6.15829 9.0621 6.35355 9.25736L9.94454 12.8483Z\" fill=\"#353748\"></path></svg></button><h3 class=\"faq__question\" property=\"name\">What does Google know about me?</h3></header><div id=\"faq-answer-1\" role=\"region\" aria-labelledby=\"faq-btn-1\" class=\"js-faq-collapsible faq__collapsible\" data-collapsed=\"true\" property=\"acceptedAnswer\" typeof=\"Answer\" style=\"height: 0px;\"><div class=\"faq__answer\"><p property=\"text\">Not only does Google keep your search history forever by default, their trackers have been found on 75% of the top million websites, which means they are tracking most everywhere you go on the Internet (unless you stop them with DuckDuckGo!). And that’s just the tip of the iceberg.</p>&nbsp;<a property=\"url\" href=\"https://spreadprivacy.com/what-does-google-know-about-me/\" target=\"_blank\" data-id=\"2-l\">Learn more</a>.</div></div></section><section class=\"js-faq-section faq__section\" property=\"mainEntity\" typeof=\"Question\"><header class=\"js-faq-header faq__header\" data-disabled=\"false\"><button class=\"faq__button\" aria-expanded=\"false\" aria-disabled=\"false\" aria-controls=\"faq-answer-2\" id=\"faq-btn-2\"><svg width=\"20\" height=\"21\" viewBox=\"0 0 20 21\" fill=\"none\" xmlns=\"http://www.w3.org/2000/svg\"><circle cx=\"10\" cy=\"10.5\" r=\"10\" transform=\"rotate(-180 10 10.5)\" fill=\"#E5E5E5\"></circle><path d=\"M9.94454 12.8483L13.5355 9.25736C13.7308 9.0621 14.0474 9.0621 14.2426 9.25736C14.4379 9.45262 14.4379 9.7692 14.2426 9.96447L10.3536 13.8536C10.2418 13.9653 10.0903 14.0131 9.94454 13.9969C9.79879 14.0131 9.64729 13.9653 9.53553 13.8536L5.64645 9.96447C5.45118 9.7692 5.45118 9.45262 5.64645 9.25736C5.84171 9.0621 6.15829 9.0621 6.35355 9.25736L9.94454 12.8483Z\" fill=\"#353748\"></path></svg></button><h3 class=\"faq__question\" property=\"name\">Why use DuckDuckGo instead of Google?</h3></header><div id=\"faq-answer-2\" role=\"region\" aria-labelledby=\"faq-btn-2\" class=\"js-faq-collapsible faq__collapsible\" data-collapsed=\"true\" property=\"acceptedAnswer\" typeof=\"Answer\" style=\"height: 0px;\"><div class=\"faq__answer\"><p property=\"text\">Ever notice ads constantly following you around? That’s in part because Google tracks your searches and hides trackers on millions of websites. By contrast, our private search engine doesn’t track your searches and our <a href=\"https://duckduckgo.com/app\" target=\"_blank\" data-id=\"1-t0\">DuckDuckGo browser extension and mobile app</a> block Google’s (and many other companies’) trackers across the Internet, helping to keep your browsing history more private, as it should be. And that’s just the beginning — by using DuckDuckGo you also escape the manipulation of the filter bubble and can use the Internet faster (after all that tracking code is disabled).</p>&nbsp;<a property=\"url\" href=\"https://spreadprivacy.com/why-use-duckduckgo-instead-of-google/\" target=\"_blank\" data-id=\"1-l\">Learn more</a>.</div></div></section><section class=\"js-faq-section faq__section\" property=\"mainEntity\" typeof=\"Question\"><header class=\"js-faq-header faq__header\" data-disabled=\"false\"><button class=\"faq__button\" aria-expanded=\"false\" aria-disabled=\"false\" aria-controls=\"faq-answer-3\" id=\"faq-btn-3\"><svg width=\"20\" height=\"21\" viewBox=\"0 0 20 21\" fill=\"none\" xmlns=\"http://www.w3.org/2000/svg\"><circle cx=\"10\" cy=\"10.5\" r=\"10\" transform=\"rotate(-180 10 10.5)\" fill=\"#E5E5E5\"></circle><path d=\"M9.94454 12.8483L13.5355 9.25736C13.7308 9.0621 14.0474 9.0621 14.2426 9.25736C14.4379 9.45262 14.4379 9.7692 14.2426 9.96447L10.3536 13.8536C10.2418 13.9653 10.0903 14.0131 9.94454 13.9969C9.79879 14.0131 9.64729 13.9653 9.53553 13.8536L5.64645 9.96447C5.45118 9.7692 5.45118 9.45262 5.64645 9.25736C5.84171 9.0621 6.15829 9.0621 6.35355 9.25736L9.94454 12.8483Z\" fill=\"#353748\"></path></svg></button><h3 class=\"faq__question\" property=\"name\">How do DuckDuckGo search results compare to Google’s?</h3></header><div id=\"faq-answer-3\" role=\"region\" aria-labelledby=\"faq-btn-3\" class=\"js-faq-collapsible faq__collapsible\" data-collapsed=\"true\" property=\"acceptedAnswer\" typeof=\"Answer\" style=\"height: 0px;\"><div class=\"faq__answer\"><p property=\"text\">DuckDuckGo search gives you truly private search results without tradeoffs in result quality. We have everything you’ve come to expect in an online search experience, and a few <a href=\"https://duckduckgo.com/bang\" target=\"_blank\" data-id=\"4-t0\">bonus features</a> that make searching the Internet not only private, but also a bit more fun! And, on top of that, because there is no search history on DuckDuckGo, you escape the filter bubble of manipulated results.</p>&nbsp;<a property=\"url\" href=\"https://spreadprivacy.com/is-duckduckgo-a-good-search-engine/\" target=\"_blank\" data-id=\"4-l\">Learn more</a>.</div></div></section><section class=\"js-faq-section faq__section\" property=\"mainEntity\" typeof=\"Question\"><header class=\"js-faq-header faq__header\" data-disabled=\"false\"><button class=\"faq__button\" aria-expanded=\"false\" aria-disabled=\"false\" aria-controls=\"faq-answer-4\" id=\"faq-btn-4\"><svg width=\"20\" height=\"21\" viewBox=\"0 0 20 21\" fill=\"none\" xmlns=\"http://www.w3.org/2000/svg\"><circle cx=\"10\" cy=\"10.5\" r=\"10\" transform=\"rotate(-180 10 10.5)\" fill=\"#E5E5E5\"></circle><path d=\"M9.94454 12.8483L13.5355 9.25736C13.7308 9.0621 14.0474 9.0621 14.2426 9.25736C14.4379 9.45262 14.4379 9.7692 14.2426 9.96447L10.3536 13.8536C10.2418 13.9653 10.0903 14.0131 9.94454 13.9969C9.79879 14.0131 9.64729 13.9653 9.53553 13.8536L5.64645 9.96447C5.45118 9.7692 5.45118 9.45262 5.64645 9.25736C5.84171 9.0621 6.15829 9.0621 6.35355 9.25736L9.94454 12.8483Z\" fill=\"#353748\"></path></svg></button><h3 class=\"faq__question\" property=\"name\">What’s the difference between using DuckDuckGo and Incognito mode?</h3></header><div id=\"faq-answer-4\" role=\"region\" aria-labelledby=\"faq-btn-4\" class=\"js-faq-collapsible faq__collapsible\" data-collapsed=\"true\" property=\"acceptedAnswer\" typeof=\"Answer\" style=\"height: 0px;\"><div class=\"faq__answer\"><p property=\"text\">It is a myth that you can’t be tracked while using so-called “Incognito” mode. In fact, Incognito mode mainly just deletes information on your computer and does nothing to stop Google from saving your searches, nor does it stop companies, Internet service providers, or governments from being able to track you across the Internet. By contrast, DuckDuckGo search is completely anonymous and if you add our app &amp; extension on top, we help keep you private when browsing off of search results.</p>&nbsp;<a property=\"url\" href=\"https://spreadprivacy.com/how-anonymous-is-duckduckgo/\" target=\"_blank\" data-id=\"3-l\">Learn more</a>.</div></div></section><section class=\"js-faq-section faq__section\" property=\"mainEntity\" typeof=\"Question\"><header class=\"js-faq-header faq__header\" data-disabled=\"false\"><button class=\"faq__button\" aria-expanded=\"false\" aria-disabled=\"false\" aria-controls=\"faq-answer-5\" id=\"faq-btn-5\"><svg width=\"20\" height=\"21\" viewBox=\"0 0 20 21\" fill=\"none\" xmlns=\"http://www.w3.org/2000/svg\"><circle cx=\"10\" cy=\"10.5\" r=\"10\" transform=\"rotate(-180 10 10.5)\" fill=\"#E5E5E5\"></circle><path d=\"M9.94454 12.8483L13.5355 9.25736C13.7308 9.0621 14.0474 9.0621 14.2426 9.25736C14.4379 9.45262 14.4379 9.7692 14.2426 9.96447L10.3536 13.8536C10.2418 13.9653 10.0903 14.0131 9.94454 13.9969C9.79879 14.0131 9.64729 13.9653 9.53553 13.8536L5.64645 9.96447C5.45118 9.7692 5.45118 9.45262 5.64645 9.25736C5.84171 9.0621 6.15829 9.0621 6.35355 9.25736L9.94454 12.8483Z\" fill=\"#353748\"></path></svg></button><h3 class=\"faq__question\" property=\"name\">How popular is DuckDuckGo?</h3></header><div id=\"faq-answer-5\" role=\"region\" aria-labelledby=\"faq-btn-5\" class=\"js-faq-collapsible faq__collapsible\" data-collapsed=\"true\" property=\"acceptedAnswer\" typeof=\"Answer\" style=\"height: 0px;\"><div class=\"faq__answer\"><p property=\"text\">We don’t track our users, so it’s actually impossible for us to know how many users in total are using our products. However, we are able to make an estimate based on the number of searches we get per month, <a href=\"https://duckduckgo.com/traffic\" target=\"_blank\" data-id=\"5-t0\">which we make public</a>. Our best guess — over 50 million people!</p>&nbsp;<a property=\"url\" href=\"https://spreadprivacy.com/how-many-people-use-duckduckgo/\" target=\"_blank\" data-id=\"5-l\">Learn more</a>.</div></div></section><section class=\"js-faq-section faq__section\" property=\"mainEntity\" typeof=\"Question\"><header class=\"js-faq-header faq__header\" data-disabled=\"false\"><button class=\"faq__button\" aria-expanded=\"false\" aria-disabled=\"false\" aria-controls=\"faq-answer-6\" id=\"faq-btn-6\"><svg width=\"20\" height=\"21\" viewBox=\"0 0 20 21\" fill=\"none\" xmlns=\"http://www.w3.org/2000/svg\"><circle cx=\"10\" cy=\"10.5\" r=\"10\" transform=\"rotate(-180 10 10.5)\" fill=\"#E5E5E5\"></circle><path d=\"M9.94454 12.8483L13.5355 9.25736C13.7308 9.0621 14.0474 9.0621 14.2426 9.25736C14.4379 9.45262 14.4379 9.7692 14.2426 9.96447L10.3536 13.8536C10.2418 13.9653 10.0903 14.0131 9.94454 13.9969C9.79879 14.0131 9.64729 13.9653 9.53553 13.8536L5.64645 9.96447C5.45118 9.7692 5.45118 9.45262 5.64645 9.25736C5.84171 9.0621 6.15829 9.0621 6.35355 9.25736L9.94454 12.8483Z\" fill=\"#353748\"></path></svg></button><h3 class=\"faq__question\" property=\"name\">How does the DuckDuckGo app &amp; extension work?</h3></header><div id=\"faq-answer-6\" role=\"region\" aria-labelledby=\"faq-btn-6\" class=\"js-faq-collapsible faq__collapsible\" data-collapsed=\"true\" property=\"acceptedAnswer\" typeof=\"Answer\" style=\"height: 0px;\"><div class=\"faq__answer\"><p property=\"text\">The DuckDuckGo Privacy Browser mobile app and Privacy Essentials desktop extension both come with our best-in-class tracker blocker, encryption enforcer, and private search engine – all in one simple package. This gives you all the key privacy protection tools to search and browse privately, curbing the constant monitoring of your Internet activity by companies like Google and Facebook.</p>&nbsp;<a property=\"url\" href=\"https://spreadprivacy.com/how-does-the-duckduckgo-app-extension-protect-my-privacy/\" target=\"_blank\" data-id=\"0-l\">Learn more</a>.</div></div></section></div>    </article><a class=\"btn btn--primary atb-button--faq ddg-extension-hide\">Add DuckDuckGo to Chrome</a></div> <!-- site-wrapper -->\\n\\n\\n<iframe id=\"iframe_hidden\" src=\"/post2.html\"></iframe><style>.header-wrap,.vertical--map--sidebar-left .has-requery .vertical--map__sidebar__header,.map-requery-mobile,.footer,.footer--mobile {border-color: transparent;background-color: #161616;box-shadow:0 1px 0 #282828;}.vertical--map--sidebar-left .has-requery .vertical--map__sidebar__header {box-shadow: 0 1px 0 #333333;}.footer,.footer--mobile {border-top: 1px solid #282828;}.no-touch .header-wrap .zcm__link.is-active {background-color: transparent;}.header-wrap.header-wrap--home {background: none;}.no-touch .site-wrapper .zcm__link, .zcm__link, .zcm__link:visited {color: #cccccc;}.no-touch .zcm__link:hover, .no-touch .zcm__link:hover:active, .no-touch .zcm__link:focus:active, .no-touch .zcm__item.is-open .zcm__link {color: #eeeeee;}.no-touch .zcm__link.is-active:hover, .no-touch .zcm__link.is-active:hover:active, .no-touch .zcm__link.is-active:focus:active {color: #eeeeee;}.zcm__link:hover,.zcm__link:active,.zcm__link.is-active {background-color: #161616;color: #eeeeee;border-bottom-color: #eeeeee;}.no-touch .header-wrap .zcm__link.is-active {color: #eeeeee;}.lt-ie9 .header-wrap {border-bottom-color: #282828;}.set-header--menu.has-zcm.is-mobile .header--aside {background: -moz-linear-gradient(left, rgba(22, 22, 22,0) 0%, rgba(22, 22, 22,1) 40%, rgba(22, 22, 22,1) 100%);background: -webkit-linear-gradient(left, rgba(22, 22, 22,0) 0%, rgba(22, 22, 22,1) 40%, rgba(22, 22, 22),1) 100%);background: -o-linear-gradient(left, rgba(22, 22, 22,0) 0%,rgba(22, 22, 22,1) 40%,rgba(22, 22, 22,1) 100%);background: -ms-linear-gradient(left, rgba(22, 22, 22,0) 0%, rgba(22, 22, 22,1) 40%, rgba(22, 22, 22,1) 100%);background: linear-gradient(to right, rgba(22, 22, 22,0) 0%, rgba(22, 22, 22,1) 40%, rgba(22, 22, 22,1) 100%);}.vertical--map__mobile-toggle {background-color: #161616;}.vertical--map__mobile-toggle-icon--map {background-image: url(\\'assets/maps/map-icon-light.svg\\');}.is-mobile.is-mobile-header-exp.is-showing-autocomplete .body--home,.is-mobile.is-mobile-header-exp.is-showing-autocomplete .body--home .site-wrapper--home,.is-mobile.is-mobile-header-exp.is-showing-autocomplete .header-wrap {background-color: #161616;}.header--text_promo--link,.header--text_promo--link:active,.header--text_promo--link:visited {color: #cccccc;}.header--text_promo a:hover {background-color: #161616;color: #eeeeee;border-bottom-color: #eeeeee;}</style><style>html,body,.body--home,.site-wrapper,.region__body,.badge-link,.module--carousel__image-wrapper,.result__image,.vertical--map__sidebar,.vertical--map__sidebar__header,.page-chrome_newtab,.zci--type--tiles:not(.is-fallback).is-full-page.is-expanded,.zci--type--tiles:not(.is-fallback).is-full-page.is-expanded .metabar:not(.is-stuck) {background-color: #1c1c1c;}.results,.results--powered,.results--ads--rrail,.result__extras__url,.msg,.dropdown .dropdown__button,.dropdown--region.has-inactive-region .dropdown__button,.dir-btn .btn.dir-btn__link:hover,.dropdown--region.has-inactive-region .dropdown__button:after,.dropdown:hover .dropdown__button,.dropdown.is-active:hover .dropdown__button,.dropdown.dropdown--location .dropdown__button,.nav-menu__feedback__icon:hover,.nav-menu__feedback__icon:focus,.feedback-btn__icon:hover,.feedback-btn__send:hover,.feedback-btn__icon:focus,.feedback-btn__send:focus,.address-detail__name,.address-detail__name:hover,.address-detail__name:active,.address-detail__name:focus,.address-detail__name:visited,.address-detail .btn.btn--primary:hover,.vertical--map__sidebar,.set-main .frm__desc,.tag-home,.about-info-box__info-label,.about-info-box__info-value,.modal__box,.place-detail,.review__rating-date,.place-list-item__info__item,.module--carousel-products .module--carousel__footer,.forecast-wrapper .module--forecast .module__weather-warning:visited:not(.module__weather-warning--red) {color: #cccccc;}.switch:not(.is-on) .switch__knob,.modal--dropdown--settings .settings-dropdown--section .frm__field:not(.is-checked) .frm__switch .frm__switch__label.btn:after {background: #cccccc;}.tag-home__link--newline .add-to-browser-badge--lite,.tag-home__link--newline .add-to-browser-badge--lite:hover,.tag-home__link--newline .add-to-browser-badge--lite:visited,.tag-home__link--newline .add-to-browser-badge--lite:active {color: #cccccc;border-width: 0px;background: none;}.result__check {color: #1c1c1c;}.result__check:visited,.feedback-btn,.feedback-btn:hover,.result__pagenum {color: #333333;}a,a:hover,.no-visited,.result__a,.result__a:hover,.result__a:active,.result__a:focus,.badge--ad,.badge--ad:hover,.badge--ad:focus,.highlight .result__a,.highlight .result__a:hover,.result__a:visited,.tag-home__link,.tag-home__link:hover,.tag-home__link:visited,.tag-home__link:active,.tag-home__link:focus,.homepage--text_promo--link,.homepage--text_promo--link:hover,.homepage--text_promo--link:visited,.homepage--text_promo--link:active,.homepage--text_promo--link:focus,.tag-home__nav__close:hover,.page-settings,.frm__label,.badge-link__text,.badge-link__cookie-msg,.no-results__link,.no-results__link:visited,.no-results__link:active,.no-results__link:hover,.vertical--map__sidebar__results__inner .no-results__link,.vertical--map__sidebar__results__inner .no-results__link:hover,.modal__header__title,.modal__header__clear:hover,.modal__list__link,.modal__list__link:hover,.modal__list__link:visited,.modal__list__link:focus,.modal__list__link.is-highlighted,.modal--dropdown .modal__list__link.is-selected,.modal--dropdown .modal__list__link.is-selected:hover,.module--carousel__body__title,.module--carousel__body__title:hover,.module--carousel__body__title:active,.module--carousel__body__title:visited,.module--carousel__left,.module--carousel__right,.is-mobile .module--images .module__toggle,.modal select,.dropdown.is-open .dropdown__button,.dropdown .dropdown__button:hover,.dropdown.dropdown--location .dropdown__button:hover,.feedback-prompt__link:hover,.feedback-btn__icon,.feedback-btn__send,.feedback-modal__heading__prompt.has-category,.feedback-modal__heading__prompt,.feedback-modal .frm__label,.forecast-wrapper .module__more-at .zci__more-at:hover,.forecast-wrapper .module--forecast .module__weather-warning:not(.module__weather-warning--red),.forecast-wrapper .module--forecast .module__weather-warning:hover:not(.module__weather-warning--red),.forecast-wrapper .module--forecast .module__weather-warning:active:not(.module__weather-warning--red),.module__title__link,.module__title__link:hover,.module__title__link:visited,.module__title__link:active,.about-info-box__heading,.about-info-box__link-row__link,.about-info-box__link-row__link:hover,.dropdown--region.has-inactive-region .dropdown__button:hover,.dropdown.is-active:not(.has-inactive-region) .dropdown__button,.module__more-at,.module__more-at:hover,.module__more-at:active,.module__more-at:focus,.module__more-at-bottom,.module__more-at-bottom:hover,.module__official-url,.module__official-url:hover,.module__link,.module__link:hover,.module__link:focus,.module__link:active,.module__link a,.module__link a:hover,.module__link a:focus,.module__link a:active,.address-detail__name,.address-detail .btn.btn--primary,.dir-btn .btn.dir-btn__link,.mapboxgl-ctrl,.mapboxgl-ctrl a,.mapkit-static__attribution,.mapkit-static__cta,.module__header.module__header--link,.module__footer,.module__footer:visited,.module__footer:active,.module__footer:hover,.module__toggle__text,.user-loc-cta__title,.user-loc-filter-modal__title,.user-loc-cta__survey,.user-loc-error__fix__step,.user-loc-title,.user-loc-survey,.user-loc-cta__more,.user-loc-error__text,.user-loc-error .user-loc-error__header,.user-loc-cta,.user-loc-subtitle,.place-list-item__title,.result__sitelinks .sponsored__sitelink,.result__sitelinks .sponsored__sitelink b,.result__sitelinks .sponsored__sitelink:active,.result__sitelinks .sponsored__sitelink:focus,.result__sitelinks .sponsored__sitelink:hover,.vertical--map__search-examples__button,.cloudsave__new-suggestion,.cloudsave__new-suggestion:hover,.footer__text,.set-main .frm__section-label,.frm__select select,.modal--dropdown .modal__list__link.is-selected,.modal--dropdown .modal__list__link.is-selected:visited,.modal--dropdown .modal__list__link.is-selected:hover,.place-detail__status,.place-detail__cta-text {color: #eeeeee;}.badge--ad,.badge--ad:hover,.badge--ad:focus,.module--carousel .badge--ad,.module--carousel .badge--ad:hover,.module--carousel .badge--ad:focus {border-color: #eeeeee;}.badge-link__title,.badge-link__bullets {color: #eeeeee;}.faq__title,.faq__question,.faq__answer,.is-atb-fullbleed .badge-link__title,.is-atb-fullbleed .badge-link__subtitle,.is-atb-fullbleed .badge-link__bullet,.is-atb-fullbleed .badge-link__rating,.is-atb-fullbleed .content-info__title,.is-atb-fullbleed .content-info__item,.is-atb-fullbleed .badge-link__rating__star--third::before ,.is-atb-fullbleed .badge-link__rating__star--half::before {color: #eeeeee !important;}.is-atb-fullbleed.dark-bg .badge-link__rating__star--empty {color: #161616;}.is-atb-fullbleed.is-bb-exp.dark-bg .badge-link__rating__star--empty {color: #444 !important;}.is-atb-fullbleed .content-info__item__link {color: #678FFF;}.settings-page-wrapper .set-side a,.settings-page-wrapper .set-side a:hover,.settings-page-wrapper .set-side a:active {color: #eeeeee;text-decoration: underline;}.result--sep--hr:before,.result--more.is-loading,.feedback--button.btn--wire,.place-list-item:hover,.footer--mobile .feedback-btn,.module__section.place-list-item:hover {color: #cccccc;border-color: #333333;background-color: #333333;}.place-hours,.most-visited__separator {border-color: #333333;}.feedback--button.btn--wire:hover,.onboarding-ed__arrow-teaser .onboarding-ed__arrow-teaser__arrow-wrapper,.most-visited__site-icon {color: #eeeeee;background-color: #333333;}.most-visited__site-link-delete {color: #eeeeee;background-color: #282828;}.mapboxgl-ctrl-scale {border-color: #eeeeee;}.set-head,.set-thumbnail__img,.set-main-footer,.region__header__section--current,.badge-link,.frm__color__swatch {border-color: #333333;}.modal__list__link:hover,.modal__list__link.is-active,.modal__list__link.is-highlighted,.modal--dropdown--region .modal__list__link.is-highlighted,.highlight .result__image,.switch,.modal--dropdown--settings .settings-dropdown--section .frm__field .frm__switch .frm__switch__label.btn {background-color: #333333;}.cloudsave,.set-bookmarklet__detail,.set-reset__detail {background: #282828;}code,.set-bookmarklet__input,.set-bookmarklet__data,.btn,.btn:visited,.btn:active,.btn.btn--primary,.btn.btn--secondary,.btn--primary:hover,.btn.is-disabled,.btn.is-disabled:hover,input,textarea,.frm__input,.frm__text,.detail--xd .c-detail__btn,.set-bookmarklet,.set-reset,.frm__select,.frm__select select,.zci--json_validator textarea,.colorpicker,.feedback-modal__submit.is-disabled,.feedback-modal__submit.is-disabled:hover,.feedback-modal__submit.is-disabled:active,.feedback-modal__submit.is-disabled:focus,.most-visited__toggle,.btn.btn--skeleton:hover {background-color: #333333;border-color: transparent;color: #eeeeee;text-shadow: none;}.open-in-app__tooltip {background-color: #333333;border-color: #161616;color: #eeeeee;}.open-in-app__tooltip::before {border-left-color: transparent;border-right-color: transparent;border-bottom-color: #161616;}.open-in-app__tooltip::after {border-left-color: transparent;border-right-color: transparent;border-bottom-color: #333333;}.zcm-wrap-wrap .zcm--right-fade::before {background-image: linear-gradient(90deg, rgba(250, 250, 250, 0), #161616);}.multi-step-mobile-onboarding .btn--cppm-skip {color: #eeeeee;}.colorpicker .colorpicker__nub {background-color: #333333;border-color: #333333;}.frm__select:hover select,.btn.is-active,.btn:hover,.frm__select:hover,.btn.most-visited__toggle:hover,.btn.most-visited__toggle:active,.btn.most-visited__toggle:focus,.no-touch .tile-nav--sm.can-scroll:hover,.no-touch .tile-nav--sm.can-scroll:active,.no-touch .tile-nav--sm.can-scroll:hover:active,.modal .btn:hover:not(.is-disabled),.modal .btn:hover:not(.is-disabled) {background-color: #444444;color: #eeeeee;border-color: #444444;}.multi-step-mobile-onboarding .btn.btn--cppm-done[disabled] {background-color: #444444;color: #eeeeee;border-color: #444444;}.btn.feedback-btn,.btn.feedback-btn a,.feedback-modal__submit.is-disabled,.feedback-modal__submit.is-disabled:hover,.feedback-modal__submit.is-disabled:active,.feedback-modal__submit.is-disabled:focus,.feedback-prompt,.feedback-prompt__link,.feedback-prompt__link:visited,.module--carousel-products.has-grid .module--carousel__main-source a,.module--carousel-products.has-grid .module--carousel__main-source a:visited,.module--carousel .module--carousel__main-source .js-badge--ad,.module--carousel .badge--ad-wrap--product-carousel .js-badge--ad,.module__more-at-and-feedback .module__more-at a,.btn.btn--skeleton,.btn.btn--skeleton:hover,.btn.is-disabled,.btn.is-disabled:hover {color: #666666;}.btn.feedback-btn,.btn.feedback-btn a,.btn.feedback-btn a:hover {border-radius: 4px;background: #282828;}.btn.feedback-btn:hover,.btn.feedback-btn a:hover {color: #cccccc;}.module__more-at-and-feedback .module__more-at a img {opacity: 0.5;}.module__more-at-and-feedback .module__more-at a:hover img {opacity: 1;}background: #333333;}.is-mobile .results_links_deep, .is-mobile .results_links,.is-mobile .result--news {background: #282828;border-color: transparent;border-bottom-color: transparent;box-shadow: 0 1px 3px rgba(0,0,0,0.5);}.modal--dropdown--region .modal__header .frm__input {background-color: #282828;}.module--carousel__placeholder,.result__image__plc {color: #cccccc;background-color: #282828;}.frm__hr {border-color: #333333;}.header-atb,.mapkit-static__cta {background-color: #161616;}.header-atb,.header-atb:active,.header-atb:hover,.header-atb:visited {color: #cccccc;}.modal--popover.is-showing,.modal--popover--gray.is-showing {background: rgba(0,0,0,0.6); }.modal__box {border: 1px solid #161616;}.modal__header {background-color: #161616;border-bottom-color: #161616;}.modal--popout--bottom.has-header .modal__box:before,.modal--popout--bottom-right.has-header .modal__box:before,.modal--popout--bottom-left.has-header .modal__box:before,.modal--popout--bottom.has-header .modal__box:after,.modal--popout--bottom-right.has-header .modal__box:after,.modal--popout--bottom-left.has-header .modal__box:after,.modal--popout .modal__box:before {color: #161616;}.modal--popout .modal__box:after {color: #1c1c1c;}.modal--popover.is-showing,.modal--popover--gray.is-showing {background: rgba(0,0,0,0.6); }.results--powered,.mapboxgl-ctrl.mapboxgl-ctrl-scale,.mapboxgl-ctrl.mapboxgl-ctrl-attrib,.mapkit-static__attribution {background-color: rgba(11%, 11%, 11%,0.85);}.region-flag__wrap--small.has-region:before {border-color: transparent;}.modal__box {border: 1px solid #161616;}.modal__header {background-color: #161616;border-bottom-color: #161616;}.modal--popout--bottom.has-header .modal__box:before,.modal--popout--bottom-right.has-header .modal__box:before,.modal--popout--bottom-left.has-header .modal__box:before,.modal--popout--bottom.has-header .modal__box:after,.modal--popout--bottom-right.has-header .modal__box:after,.modal--popout--bottom-left.has-header .modal__box:after,.modal--popout .modal__box:before {color: #161616;}.modal--popout .modal__box:after {color: #1c1c1c;}.search-filters-wrap:before {background-image: linear-gradient(90deg, #1c1c1c, rgba(11%, 11%, 11%, 0));}.search-filters-wrap:after {background-image: linear-gradient(90deg, rgba(11%, 11%, 11%, 0), #1c1c1c);}.user-loc-cta {border-bottom-color: #1c1c1c;}.add-to-browser--blurred-cppm {background-color: #1c1c1c;}.nav-menu,.nav-menu--slideout {background-color: #282828;}.nav-menu--slideout {border-left-color: #161616;-webkit-box-shadow: none;-moz-box-shadow: none;box-shadow: none;}.nav-menu__icon,.nav-menu__close,.nav-menu__item,.nav-menu__item--secondary,.nav-menu__item > a,.nav-menu__item--secondary > a,.nav-menu__item > a:visited,.nav-menu__item--secondary > a:visited {color: #eeeeee;}.nav-menu__item > a:hover {color: #eeeeee;}.nav-menu__heading,.nav-menu__heading--primary {color: #cccccc;}.nav-menu__theme.theme-is-selected {border-color: #cccccc;}.btn--icon,.header__link,.header__link:visited,.header__label,.showcase .social__link__text,.header__button--menu,.is-mobile-header-exp .header__button--menu,.no-touch .btn--icon,.no-touch .header__button,.no-touch .header__button--menu {color: #cccccc;}.showcase .showcase__heading,.showcase .social__link__text:hover,.header__link:hover,.header__label:hover,.header__clickable:hover {color: #eeeeee;}.no-touch .btn--icon:hover,.no-touch .header__button:hover,.no-touch .header__button--menu:hover,.no-touch .header__button:focus,.no-touch .header__button--menu:focus {color: ;background-color: #333333;}.metabar__mode, .metabar__grid-btn {color: #eeeeee;background-color: #333333;border-color: #333333;}.metabar__mode:hover, .metabar__grid-btn:hover {color: #cccccc;background-color: #333333;border-color: #333333;}.showcase .showcase__dropdown-top .showcase__subheading {color: ;}.showcase .showcase__dropdown-bottom {background: #161616;border-color: #333333;}.search--home,.search--header {background-color: #333333;border-color: #333333;box-shadow: 0 1px 3px rgba(0,0,0,0.5);}.search__clear,.search--home.has-text .search__clear {color: #cccccc;}.search__clear:focus,.search__clear:hover,.search__clear:active,.search__clear:active:focus,.search__clear:active:hover {color: #eeeeee;}.search__input--adv {color: #eeeeee;}.search__button:hover,.search__button:focus,.search--hover .search__button,.search--hover .search__button:focus,.search--header.has-text.search--hover .search__button,.search--header.has-text.search--focus .search__button,.search--header.has-text.search--hover .search__button:hover,.search--header.has-text.search--focus .search__button:hover,.search--home.has-text .search__button,.search--home.has-text .search__button:focus,.search--home.has-text .search__button:hover {background-color: #444444;color: #cccccc;}.search__button:hover,.search--header.has-text.search--hover .search__button:hover,.search--header.has-text.search--focus .search__button:hover,.search--home.has-text .search__button:focus,.search--home.has-text .search__button:hover {color: #eeeeee;}.is-mobile.is-mobile-header-exp .search--mobile-exp {border-color: #333333;}.is-mobile.is-mobile-header-exp .search--mobile-exp.has-text:after {background-color: #666666;}.is-mobile .search--adv.search--mobile-exp.has-text .search__button {background-color: transparent;}.is-mobile .search--adv.search--mobile-exp.has-text .search__button:focus,.is-mobile .search--adv.search--mobile-exp.has-text .search__button:hover,.is-mobile .search--adv.search--mobile-exp .search__button:focus,.is-mobile .search--adv.search--mobile-exp .search__button:hover {background-color: transparent;color: #eeeeee;}.is-mobile .search--adv.search--mobile-exp.has-text .search__button,.is-mobile .search--adv.search--mobile-exp .search__back {color: #cccccc;}.is-mobile .search--adv.search--mobile-exp .search__back:focus,.is-mobile .search--adv.search--mobile-exp .search__back:hover,.is-mobile .search--adv.search--mobile-exp .acp__search-fill:hover,.is-mobile .search--adv.search--mobile-exp .acp__search-fill:focus {color: #eeeeee;}.search__autocomplete {border-color: #333333;background: #333333;border-top: 1px solid #282828;}.acp-footer {border: 1px solid #333333;}.acp-wrap, .acp-footer {background-color: #333333;border-color: #333333;}.acp-wrap__column.acp-wrap__column--left {border-color: #282828;}.acp,.acp--bang,.acp__detail,.acp-footer .acp-footer__instructions {color: #cccccc;}.acp,.acp--bang,.acp strong,.acp--bang .acp--bang__phrase,.acp--highlight.acp--bang .acp--bang__phrase,.acp--highlight.acp--bang .acp--bang__snippet {color: #eeeeee;}.acp--highlight {background-color: #282828;}.is-mobile.is-mobile-header-exp .acp-wrap {border: none;}</style><style>.result a.result__a,.result a.result__a:hover,.result a.result__a:active,.result a.badge--ad,.result a.badge--ad:hover,.result a.badge--ad:focus,.sitelinks__title a.result__a,.sitelinks__title a.result__a:hover,.sitelinks__title a.result__a:active,.msg__all,.msg__all:visited,.msg__all:hover,.msg__clear,.msg__clear:active,.msg__clear:hover,.msg__clear:visited,.msg--spelling :link,.msg--spelling a:visited,.msg--spelling a:hover,.module__link,.module__link:hover,.module__link:focus,.module__link:active,.module__link a,.module__link a:hover,.module__link a:focus,.module__link a:active,.module--carousel__body__title,.module--carousel__body__title:active,.module--carousel__body__title:hover,.module--carousel__more,.module--carousel__more:active,.module--carousel__more:hover,.no-results__link,.no-results__link:visited,.no-results__link:active,.no-results__link:hover,.about-info-box__link-row__link:hover,.about-info-box__link-row__link:active {color: #eeeeee;}.result a.badge--ad,.result a.badge--ad:hover,.result a.badge--ad:focus {border-color: #eeeeee;}.result__sitelinks .sponsored__sitelink b,.result__sitelinks .sponsored__sitelink,.result__sitelinks .sponsored__sitelink:active,.result__sitelinks .sponsored__sitelink:hover {color: #eeeeee !important;}</style><style>.result__snippet,.result__snippet b,.result__snippet .sponsored__sitelink__comma {color: #cccccc !important;}.report-ad__start {border-color: #333333;}.report-ad,.report-ad__link,.report-ad__link:hover,.report-ad__link:visited,.report-ad__link:visited:hover {color:  !important;}.result__date {color:  !important;}</style><style>.results a.result__a:visited,.sitelinks__title a.result__a:visited,.module--news__body__title:visited,.module__link:visited, .module__link:visited:hover,.module__link a:visited, .module__link a:visited:hover{ color:#aaaaaa;}</style><style>.result__url,.result__url:visited,.result__url:active,.result__url:hover,.result__url:focus,.result__url:visited:focus,.result--ad .result__url,.result--ad .result__url:hover,.result--ad .result__url:active,.result--ad .result__url:visited {color: #eeeeee;}.badge--ad--inline,.badge--ad--inline:hover,.badge--ad--inline:focus {color: #eeeeee;border-color: #eeeeee;}</style><style>.module:not(.module--carousel):not(.module--placeholder):not(.module--images),.modal--popout .modal__box,.modal__box,.sidebar-modules .module,.results--main .result:not(.result--ad).highlight,.module .module--carousel__item,.user-loc-cta,.address-detail,.modal--dropdown.modal--popout .modal__box,.tile--info,.place-detail,.badge-link,.is-atb-fullbleed .content-info__item,.atb-banner__bottom,.multi-step-mobile-onboarding__step__content,.is-mobile .results_links_deep,.is-mobile .results_links,.is-mobile .result--news,.is-mobile .related-searches,.most-visited__info-tt,.user-loc-tooltip {border: 1px solid #282828;background: #282828;box-shadow: 0 1px 3px rgba(0,0,0,0.5);color: #cccccc;}.multi-step-mobile-onboarding__step__content {border-width: 0;}.multi-step-mobile-onboarding__progress__fallback-bar {background-color: #282828 !important;}.vertical--map__sidebar__results__inner {border: 1px solid #282828;background: #282828;color: #cccccc;}.place-detail {border: none;}.most-visited__info-tt--above:before,.most-visited__info-tt:before,.most-visited__info-tt--above:after,.most-visited__info-tt:after {border-top-color: #282828;border-bottom-color: #282828;}.address-detail {box-shadow: none;border-color: transparent;}.vertical--map__search-examples,.vertical--map__search-web,.about-info-box__info-row,.is-mobile .related-searches__item,.module--places .module__places-more {border-color: #333333;}.module--carousel__left,.module--carousel__right {background-color: #333333;box-shadow: 0 1px 3px 0 rgba(0,0,0,0.5);color: #eeeeee;border-color: #333333;}.module--carousel__left:hover,.module--carousel__right:hover,.tile__expand:hover {background-color: #444444;box-shadow: 0 1px 3px 0 rgba(0,0,0,0.5);border-color: #444444;color: #eeeeee;}.module__toggle,.tile__expand {background-color: #333333;color: #eeeeee;border-color: #282828;box-shadow: none;}.is-not-mobile-device .module__toggle:hover,.place-detail__cta-item:hover .place-detail__cta-icon {background-color: #444444;color: #cccccc;}.module__toggle--more::after {background: linear-gradient(rgba(40, 40, 40, 0), rgba(40, 40, 40, 1));}.is-mobile .module {border-color: transparent;}.module__text,.module--carousel__footer,.user-loc-cta__dismiss,.module__title__sub {color: #cccccc;}.module__link, .module__link:visited, .module__link:hover, .module__link:focus, .module__link:active,.module__link a, .module__link a:visited, .module__link a:hover, .module__link a:focus, .module__link a:active,.modal--dropdown--settings .settings-dropdown--section .settings-dropdown--header .settings-dropdown--header--label,.user-loc-link,.user-loc-link:visited,.user-loc-link:hover,.module__link:visited,.module__link a:visited,.multi-step-mobile-onboarding__step__content h2,.multi-step-mobile-onboarding__step__content__body,.multi-step-mobile-onboarding__progress label,.atb-banner__bottom .atb-banner__title,.atb-banner__bottom .atb-banner__link {color: #eeeeee !important;}.multi-step-mobile-onboarding__close svg path {fill: #eeeeee !important;}.multi-step-mobile-onboarding__step__content header p,.multi-step-mobile-onboarding__step__content__body__remaining-items li a {color: #cccccc !important;}.multi-step-mobile-onboarding__step__content__body__remaining-items li a i {background-color: #333333 !important;}.module__nav__item.is-active {border-bottom-color: #cccccc;}.tile {content:\"\";box-shadow: 0 1px 3px 0 rgba(0,0,0,0.5);border-color: #282828;background: #282828;}.tile .tile__body {border-color: #282828;background: #282828;}.tile .tile__title {color: #eeeeee;}.modal .frm__select {border-color: transparent;}.modal .frm__select,.modal .frm__select select,.modal .frm__text,.modal .frm__input,.modal--dropdown--region .modal__list__divider {resize: none;border-color: transparent;background: #333333;color: #eeeeee;}.user-loc-survey-reason__comment {border-color: transparent;background-color: #333333;color: #eeeeee;}.module--carousel__image-wrapper {background: #333333;}.user-loc-tooltip__address,.modal__header {background: #333333;}.modal__header,.module__section,.module__section:first-child.place-detail__section--tab,.module__clickable-header {border-color: #333333;}.modal .frm__select:after {color: #eeeeee;}.faq__section,.faq__section:last-child,.modal--dropdown--settings .settings-dropdown--section {border-color: #333333;}.modal--dropdown--settings .settings-dropdown--section .frm__field .frm__select select {background: #282828;}.modal--dropdown--settings .settings-dropdown--section .frm__field .frm__select:before {background-image: linear-gradient(to right, rgba(40, 40, 40, 0) 0%, rgba(40, 40, 40, 1) 65%);}.modal--dropdown--settings .settings-dropdown--section .settings-dropdown--header .settings-dropdown--header--link {color: #eeeeee;}.vertical--map__sidebar__wrapper,.is-mobile-device .vertical--map__sidebar--normal .vertical--map__sidebar-mask {background: #282828;}.user-loc-tooltip, .badge--ad__tooltip {color: #eeeeee;border-color: #333333;background: #282828;}.user-loc-tile {background: #444444;color: #eeeeee;}.user-loc-tile:hover {background: #666666;}.badge--ad__tooltip--mobile .badge--ad__tooltip__triangle-outer,.badge--ad__tooltip--below .badge--ad__tooltip__triangle-outer,.user-loc-tooltip--below .user-loc-tooltip__triangle-outer,.user-loc-tooltip--below-right .user-loc-tooltip__triangle-outer {border-bottom-color: #333333;}.badge--ad__tooltip--mobile .badge--ad__tooltip__triangle-inner,.badge--ad__tooltip--below .badge--ad__tooltip__triangle-inner,.user-loc-tooltip--below .user-loc-tooltip__triangle-inner,.user-loc-tooltip--below-right .user-loc-tooltip__triangle-inner {border-bottom-color: #282828;}.badge--ad__tooltip--right .badge--ad__tooltip__triangle-outer {border-right-color: #333333;}.badge--ad__tooltip--right .badge--ad__tooltip__triangle-inner {border-right-color: #282828;}.user-loc-tooltip__err-img-container div {background-image: url(\"/assets/location_help/location-help--dark.svg\");}.set-themes .set-theme.is-checked {border-color: #282828;}.set-themes .set-theme[for=setting_kae_-1] {border-color: transparent;}</style><style>.msg--spelling :link,.msg--spelling :visited,.msg--spelling a:hover,.msg__clear,.msg__clear:hover,.msg__all,.msg__all:visited {color: #eeeeee !important;}</style></body></html>'"
      ]
     },
     "execution_count": 4,
     "metadata": {},
     "output_type": "execute_result"
    }
   ],
   "source": [
    "driver.page_source"
   ]
  },
  {
   "cell_type": "code",
   "execution_count": 34,
   "metadata": {},
   "outputs": [
    {
     "data": {
      "text/plain": [
       "'DuckDuckGo — Privacy, simplified.'"
      ]
     },
     "execution_count": 34,
     "metadata": {},
     "output_type": "execute_result"
    }
   ],
   "source": [
    "driver.title"
   ]
  },
  {
   "cell_type": "code",
   "execution_count": 35,
   "metadata": {},
   "outputs": [
    {
     "data": {
      "text/plain": [
       "'https://duckduckgo.com/'"
      ]
     },
     "execution_count": 35,
     "metadata": {},
     "output_type": "execute_result"
    }
   ],
   "source": [
    "driver.current_url"
   ]
  },
  {
   "cell_type": "code",
   "execution_count": 36,
   "metadata": {},
   "outputs": [
    {
     "data": {
      "text/plain": [
       "<selenium.webdriver.remote.webelement.WebElement (session=\"ff32e5220e8492849743d9382017d4cf\", element=\"bd78d5fe-87cc-4838-8378-417062b82b72\")>"
      ]
     },
     "execution_count": 36,
     "metadata": {},
     "output_type": "execute_result"
    }
   ],
   "source": [
    "p = driver.find_element_by_tag_name('p')\n",
    "p"
   ]
  },
  {
   "cell_type": "code",
   "execution_count": 37,
   "metadata": {},
   "outputs": [
    {
     "data": {
      "text/plain": [
       "<selenium.webdriver.remote.webelement.WebElement (session=\"ff32e5220e8492849743d9382017d4cf\", element=\"6ec9c900-2cda-4a9b-bbcb-e6f13b0781de\")>"
      ]
     },
     "execution_count": 37,
     "metadata": {},
     "output_type": "execute_result"
    }
   ],
   "source": [
    "faq_button = driver.find_element_by_class_name('faq__button')\n",
    "faq_button"
   ]
  },
  {
   "cell_type": "code",
   "execution_count": 38,
   "metadata": {},
   "outputs": [
    {
     "data": {
      "text/plain": [
       "<selenium.webdriver.remote.webelement.WebElement (session=\"ff32e5220e8492849743d9382017d4cf\", element=\"86232500-c362-4280-897e-b89f4a59fbb8\")>"
      ]
     },
     "execution_count": 38,
     "metadata": {},
     "output_type": "execute_result"
    }
   ],
   "source": [
    "error_div = driver.find_element_by_id('error_homepage')\n",
    "error_div"
   ]
  },
  {
   "cell_type": "code",
   "execution_count": 39,
   "metadata": {},
   "outputs": [
    {
     "data": {
      "text/plain": [
       "[<selenium.webdriver.remote.webelement.WebElement (session=\"ff32e5220e8492849743d9382017d4cf\", element=\"7c2e7eee-d118-49f8-bc7d-3e39d7b18e5e\")>,\n",
       " <selenium.webdriver.remote.webelement.WebElement (session=\"ff32e5220e8492849743d9382017d4cf\", element=\"f7658a5f-d144-4a0a-89f3-eb3951628f39\")>,\n",
       " <selenium.webdriver.remote.webelement.WebElement (session=\"ff32e5220e8492849743d9382017d4cf\", element=\"d33f1693-db9c-479f-b9e3-0db3d6332c6f\")>,\n",
       " <selenium.webdriver.remote.webelement.WebElement (session=\"ff32e5220e8492849743d9382017d4cf\", element=\"ad99b8a6-e2fd-4174-ab0d-ef0b6ef60eac\")>,\n",
       " <selenium.webdriver.remote.webelement.WebElement (session=\"ff32e5220e8492849743d9382017d4cf\", element=\"14f00b0f-3687-477a-8153-c5b197de0979\")>,\n",
       " <selenium.webdriver.remote.webelement.WebElement (session=\"ff32e5220e8492849743d9382017d4cf\", element=\"8f88e658-88fc-4491-b946-787dc4c6f2ee\")>,\n",
       " <selenium.webdriver.remote.webelement.WebElement (session=\"ff32e5220e8492849743d9382017d4cf\", element=\"33c2a000-f85d-43ca-afa7-885862901a72\")>,\n",
       " <selenium.webdriver.remote.webelement.WebElement (session=\"ff32e5220e8492849743d9382017d4cf\", element=\"da334cc3-6d70-4b11-818a-c5265070f431\")>,\n",
       " <selenium.webdriver.remote.webelement.WebElement (session=\"ff32e5220e8492849743d9382017d4cf\", element=\"026dea81-6130-48f7-948b-6506cb4a765f\")>,\n",
       " <selenium.webdriver.remote.webelement.WebElement (session=\"ff32e5220e8492849743d9382017d4cf\", element=\"18a8c9fe-5c5b-4344-ba18-47f0dc07fdf4\")>,\n",
       " <selenium.webdriver.remote.webelement.WebElement (session=\"ff32e5220e8492849743d9382017d4cf\", element=\"3d330995-ebbc-41a1-9d0d-a13e876efc08\")>,\n",
       " <selenium.webdriver.remote.webelement.WebElement (session=\"ff32e5220e8492849743d9382017d4cf\", element=\"11b973bf-eb8f-4ae2-be63-a783683aa85c\")>,\n",
       " <selenium.webdriver.remote.webelement.WebElement (session=\"ff32e5220e8492849743d9382017d4cf\", element=\"dd3e8c23-71d2-4e74-9f5d-f21fe7770a3f\")>,\n",
       " <selenium.webdriver.remote.webelement.WebElement (session=\"ff32e5220e8492849743d9382017d4cf\", element=\"9d30dee8-5147-4f01-94f0-c026e8a17e30\")>,\n",
       " <selenium.webdriver.remote.webelement.WebElement (session=\"ff32e5220e8492849743d9382017d4cf\", element=\"19f3fa04-b8f6-4636-bf0e-1f8c70d98fb7\")>,\n",
       " <selenium.webdriver.remote.webelement.WebElement (session=\"ff32e5220e8492849743d9382017d4cf\", element=\"3f3b52a9-8fe1-4a8a-8aec-d9d43647bab4\")>,\n",
       " <selenium.webdriver.remote.webelement.WebElement (session=\"ff32e5220e8492849743d9382017d4cf\", element=\"b4e98cdb-45a7-4a03-9055-fe7c940f234b\")>,\n",
       " <selenium.webdriver.remote.webelement.WebElement (session=\"ff32e5220e8492849743d9382017d4cf\", element=\"b7c5cd02-d428-4dad-bbb9-2b39d76396d8\")>,\n",
       " <selenium.webdriver.remote.webelement.WebElement (session=\"ff32e5220e8492849743d9382017d4cf\", element=\"cd4d250a-61e9-4986-9139-f52991fbb4f8\")>,\n",
       " <selenium.webdriver.remote.webelement.WebElement (session=\"ff32e5220e8492849743d9382017d4cf\", element=\"b5d19289-b0ab-43c3-9464-933ddc6aa378\")>,\n",
       " <selenium.webdriver.remote.webelement.WebElement (session=\"ff32e5220e8492849743d9382017d4cf\", element=\"638be55f-cb2d-4b20-a5b6-d3894d7e5321\")>,\n",
       " <selenium.webdriver.remote.webelement.WebElement (session=\"ff32e5220e8492849743d9382017d4cf\", element=\"4215a21b-7504-4c6e-bec8-e3f21269c44a\")>,\n",
       " <selenium.webdriver.remote.webelement.WebElement (session=\"ff32e5220e8492849743d9382017d4cf\", element=\"d82338ab-7fab-483d-bc5b-28666a1dacbd\")>,\n",
       " <selenium.webdriver.remote.webelement.WebElement (session=\"ff32e5220e8492849743d9382017d4cf\", element=\"cc3b4835-7437-4a1b-a237-7d060489c70d\")>,\n",
       " <selenium.webdriver.remote.webelement.WebElement (session=\"ff32e5220e8492849743d9382017d4cf\", element=\"2997e536-ee05-45e4-a27a-95146ece3107\")>,\n",
       " <selenium.webdriver.remote.webelement.WebElement (session=\"ff32e5220e8492849743d9382017d4cf\", element=\"4f8fa476-6d76-4447-9f98-ca6d27f1d5ec\")>,\n",
       " <selenium.webdriver.remote.webelement.WebElement (session=\"ff32e5220e8492849743d9382017d4cf\", element=\"3039a4d7-f0a4-4208-8c86-5b7f4e9d766f\")>,\n",
       " <selenium.webdriver.remote.webelement.WebElement (session=\"ff32e5220e8492849743d9382017d4cf\", element=\"95af9e55-942a-4d81-80f7-a2e8fa571b86\")>,\n",
       " <selenium.webdriver.remote.webelement.WebElement (session=\"ff32e5220e8492849743d9382017d4cf\", element=\"d518730b-57a9-40a3-94dd-d8ad76e2aa41\")>,\n",
       " <selenium.webdriver.remote.webelement.WebElement (session=\"ff32e5220e8492849743d9382017d4cf\", element=\"d748316c-497f-4f2d-9a4b-8465d1216d2f\")>,\n",
       " <selenium.webdriver.remote.webelement.WebElement (session=\"ff32e5220e8492849743d9382017d4cf\", element=\"464574eb-55ea-4d4f-9cf1-5d415a3c81bc\")>,\n",
       " <selenium.webdriver.remote.webelement.WebElement (session=\"ff32e5220e8492849743d9382017d4cf\", element=\"a3c0453d-1c5d-44f7-b680-58e7b08de40b\")>,\n",
       " <selenium.webdriver.remote.webelement.WebElement (session=\"ff32e5220e8492849743d9382017d4cf\", element=\"5a53558b-3900-4cfe-903f-8e7b27fb3943\")>,\n",
       " <selenium.webdriver.remote.webelement.WebElement (session=\"ff32e5220e8492849743d9382017d4cf\", element=\"2a787350-2afe-4db7-ac52-695b7d4b1c1c\")>,\n",
       " <selenium.webdriver.remote.webelement.WebElement (session=\"ff32e5220e8492849743d9382017d4cf\", element=\"95e370eb-d21a-411b-bea3-347cc1616cc2\")>,\n",
       " <selenium.webdriver.remote.webelement.WebElement (session=\"ff32e5220e8492849743d9382017d4cf\", element=\"6d8bc57a-f13a-47f0-9ba0-f4aca5f985ca\")>,\n",
       " <selenium.webdriver.remote.webelement.WebElement (session=\"ff32e5220e8492849743d9382017d4cf\", element=\"20c92c5d-0bcc-4a22-bbe7-0af91b79514e\")>,\n",
       " <selenium.webdriver.remote.webelement.WebElement (session=\"ff32e5220e8492849743d9382017d4cf\", element=\"d0321a0a-65db-42bc-a940-3264692d12e9\")>,\n",
       " <selenium.webdriver.remote.webelement.WebElement (session=\"ff32e5220e8492849743d9382017d4cf\", element=\"d0d9b52d-e0d4-40c1-9f9c-3196e0822203\")>,\n",
       " <selenium.webdriver.remote.webelement.WebElement (session=\"ff32e5220e8492849743d9382017d4cf\", element=\"1294a671-281f-4caa-b438-dab600f1540b\")>,\n",
       " <selenium.webdriver.remote.webelement.WebElement (session=\"ff32e5220e8492849743d9382017d4cf\", element=\"08ec01c4-3d31-4d12-8f88-72439acd246d\")>,\n",
       " <selenium.webdriver.remote.webelement.WebElement (session=\"ff32e5220e8492849743d9382017d4cf\", element=\"f8063657-2c8e-4a5e-99f5-f44627312592\")>,\n",
       " <selenium.webdriver.remote.webelement.WebElement (session=\"ff32e5220e8492849743d9382017d4cf\", element=\"7ad85015-c892-4fcc-9e8e-edfdeb20685d\")>,\n",
       " <selenium.webdriver.remote.webelement.WebElement (session=\"ff32e5220e8492849743d9382017d4cf\", element=\"dfd07d18-c4ac-4c08-81de-8e6d820d62f1\")>,\n",
       " <selenium.webdriver.remote.webelement.WebElement (session=\"ff32e5220e8492849743d9382017d4cf\", element=\"460976d9-f278-4515-b33b-9abacb737a0c\")>,\n",
       " <selenium.webdriver.remote.webelement.WebElement (session=\"ff32e5220e8492849743d9382017d4cf\", element=\"d2e6389a-2ca5-4df6-826c-4f16d40e8606\")>,\n",
       " <selenium.webdriver.remote.webelement.WebElement (session=\"ff32e5220e8492849743d9382017d4cf\", element=\"930fb205-0588-4087-9ae2-32b2de77aba4\")>,\n",
       " <selenium.webdriver.remote.webelement.WebElement (session=\"ff32e5220e8492849743d9382017d4cf\", element=\"68ac5ed1-4414-435b-b061-f2d053580279\")>,\n",
       " <selenium.webdriver.remote.webelement.WebElement (session=\"ff32e5220e8492849743d9382017d4cf\", element=\"a6243e8b-dddc-42f4-923f-7f2638c32700\")>,\n",
       " <selenium.webdriver.remote.webelement.WebElement (session=\"ff32e5220e8492849743d9382017d4cf\", element=\"098a7cb4-6597-4f73-bb2d-79ae57cd8767\")>,\n",
       " <selenium.webdriver.remote.webelement.WebElement (session=\"ff32e5220e8492849743d9382017d4cf\", element=\"2a004ff6-2c39-42e4-b8d0-2d3550ad681c\")>,\n",
       " <selenium.webdriver.remote.webelement.WebElement (session=\"ff32e5220e8492849743d9382017d4cf\", element=\"130b976d-792c-4ae6-8c29-95f57767cf0e\")>,\n",
       " <selenium.webdriver.remote.webelement.WebElement (session=\"ff32e5220e8492849743d9382017d4cf\", element=\"bc017bc2-3884-4489-8ccf-40b070e99e21\")>,\n",
       " <selenium.webdriver.remote.webelement.WebElement (session=\"ff32e5220e8492849743d9382017d4cf\", element=\"80f24351-cc94-45c4-a7eb-b70bcd2685b1\")>,\n",
       " <selenium.webdriver.remote.webelement.WebElement (session=\"ff32e5220e8492849743d9382017d4cf\", element=\"c3de98d2-82c1-4d3a-8bc0-87e4147b1740\")>,\n",
       " <selenium.webdriver.remote.webelement.WebElement (session=\"ff32e5220e8492849743d9382017d4cf\", element=\"f6185c80-bdc3-4f93-b68d-53eda4a6b246\")>,\n",
       " <selenium.webdriver.remote.webelement.WebElement (session=\"ff32e5220e8492849743d9382017d4cf\", element=\"edf289e7-381c-4005-8d12-62717947592e\")>,\n",
       " <selenium.webdriver.remote.webelement.WebElement (session=\"ff32e5220e8492849743d9382017d4cf\", element=\"39dacf5f-e884-4ebf-ba15-05c61452e492\")>]"
      ]
     },
     "execution_count": 39,
     "metadata": {},
     "output_type": "execute_result"
    }
   ],
   "source": [
    "a_tags = driver.find_elements_by_tag_name('a')\n",
    "a_tags"
   ]
  },
  {
   "cell_type": "code",
   "execution_count": 40,
   "metadata": {},
   "outputs": [
    {
     "data": {
      "text/plain": [
       "''"
      ]
     },
     "execution_count": 40,
     "metadata": {},
     "output_type": "execute_result"
    }
   ],
   "source": [
    "p.text"
   ]
  },
  {
   "cell_type": "code",
   "execution_count": 41,
   "metadata": {},
   "outputs": [],
   "source": [
    "faq_button.click()"
   ]
  },
  {
   "cell_type": "code",
   "execution_count": 42,
   "metadata": {},
   "outputs": [
    {
     "data": {
      "text/plain": [
       "'faq__button'"
      ]
     },
     "execution_count": 42,
     "metadata": {},
     "output_type": "execute_result"
    }
   ],
   "source": [
    "faq_button.get_attribute('class')"
   ]
  },
  {
   "cell_type": "code",
   "execution_count": 43,
   "metadata": {},
   "outputs": [
    {
     "data": {
      "text/plain": [
       "['https://duckduckgo.com/#',\n",
       " 'https://duckduckgo.com/app',\n",
       " 'https://duckduckgo.com/app',\n",
       " 'https://duckduckgo.com/newsletter',\n",
       " 'https://duckduckgo.com/newsletter',\n",
       " 'https://spreadprivacy.com/tag/device-privacy-tips/',\n",
       " 'https://spreadprivacy.com/tag/device-privacy-tips/',\n",
       " 'https://duckduckgo.com/spread',\n",
       " 'https://duckduckgo.com/spread',\n",
       " 'https://duckduckgo.com/donations',\n",
       " 'https://duckduckgo.com/donations',\n",
       " 'https://duckduckgo.com/traffic',\n",
       " 'https://duckduckgo.com/traffic',\n",
       " 'https://donttrack.us/',\n",
       " 'https://donttrack.us/',\n",
       " 'https://twitter.com/duckduckgo',\n",
       " 'https://reddit.com/r/duckduckgo',\n",
       " 'https://spreadprivacy.com/',\n",
       " 'https://duckduckgo.com/newsletter',\n",
       " 'https://duckduckgo.com/about',\n",
       " 'https://duckduckgo.com/bang',\n",
       " 'https://duckduckgo.com/spread',\n",
       " 'https://chrome.google.com/webstore/detail/bkdgflcldnnnapblkhphbgpggdiikppg/reviews',\n",
       " 'https://duckduckgo.com/app',\n",
       " 'https://duckduckgo.com/app',\n",
       " 'https://duckduckgo.com/settings#theme',\n",
       " 'https://duckduckgo.com/settings',\n",
       " 'https://duckduckgo.com/bangs',\n",
       " 'https://duckduckgo.com/',\n",
       " 'https://duckduckgo.com/app',\n",
       " 'https://spreadprivacy.com/',\n",
       " 'https://duckduckgo.com/newsletter',\n",
       " 'https://duckduckgo.com/spread',\n",
       " 'https://duckduckgo.com/about',\n",
       " 'https://duckduckgo.com/privacy',\n",
       " 'https://duckduckgo.com/hiring',\n",
       " 'https://duckduckgo.com/press',\n",
       " 'https://twitter.com/duckduckgo',\n",
       " 'https://duckduckgo.merchmadeeasy.com/',\n",
       " 'https://reddit.com/r/duckduckgo',\n",
       " 'https://help.duckduckgo.com/',\n",
       " None,\n",
       " None,\n",
       " None,\n",
       " None,\n",
       " None,\n",
       " 'https://twitter.com/?status=DuckDuckGo%20is%20my%20search%20engine%20of%20choice.%20%23ComeToTheDuckSide%20-%20we%20have%20privacy.%20https%3A%2F%2Fduckduckgo.com%2F%231',\n",
       " 'https://spreadprivacy.com/duckduckgo-revenue-model/',\n",
       " 'https://spreadprivacy.com/what-does-google-know-about-me/',\n",
       " 'https://duckduckgo.com/app',\n",
       " 'https://spreadprivacy.com/why-use-duckduckgo-instead-of-google/',\n",
       " 'https://duckduckgo.com/bang',\n",
       " 'https://spreadprivacy.com/is-duckduckgo-a-good-search-engine/',\n",
       " 'https://spreadprivacy.com/how-anonymous-is-duckduckgo/',\n",
       " 'https://duckduckgo.com/traffic',\n",
       " 'https://spreadprivacy.com/how-many-people-use-duckduckgo/',\n",
       " 'https://spreadprivacy.com/how-does-the-duckduckgo-app-extension-protect-my-privacy/',\n",
       " None]"
      ]
     },
     "execution_count": 43,
     "metadata": {},
     "output_type": "execute_result"
    }
   ],
   "source": [
    "[a.get_attribute('href') for a in a_tags]"
   ]
  },
  {
   "cell_type": "code",
   "execution_count": 44,
   "metadata": {},
   "outputs": [
    {
     "data": {
      "text/plain": [
       "'showcase__subheading'"
      ]
     },
     "execution_count": 44,
     "metadata": {},
     "output_type": "execute_result"
    }
   ],
   "source": [
    "from composable import pipeable\n",
    "get_attribute = pipeable(lambda attr, tag: tag.get_attribute(attr))\n",
    "\n",
    "(p\n",
    ">> get_attribute('class')\n",
    ")"
   ]
  },
  {
   "cell_type": "code",
   "execution_count": 45,
   "metadata": {
    "scrolled": true
   },
   "outputs": [
    {
     "data": {
      "text/plain": [
       "['https://duckduckgo.com/#',\n",
       " 'https://duckduckgo.com/app',\n",
       " 'https://duckduckgo.com/app',\n",
       " 'https://duckduckgo.com/newsletter',\n",
       " 'https://duckduckgo.com/newsletter',\n",
       " 'https://spreadprivacy.com/tag/device-privacy-tips/',\n",
       " 'https://spreadprivacy.com/tag/device-privacy-tips/',\n",
       " 'https://duckduckgo.com/spread',\n",
       " 'https://duckduckgo.com/spread',\n",
       " 'https://duckduckgo.com/donations',\n",
       " 'https://duckduckgo.com/donations',\n",
       " 'https://duckduckgo.com/traffic',\n",
       " 'https://duckduckgo.com/traffic',\n",
       " 'https://donttrack.us/',\n",
       " 'https://donttrack.us/',\n",
       " 'https://twitter.com/duckduckgo',\n",
       " 'https://reddit.com/r/duckduckgo',\n",
       " 'https://spreadprivacy.com/',\n",
       " 'https://duckduckgo.com/newsletter',\n",
       " 'https://duckduckgo.com/about',\n",
       " 'https://duckduckgo.com/bang',\n",
       " 'https://duckduckgo.com/spread',\n",
       " 'https://chrome.google.com/webstore/detail/bkdgflcldnnnapblkhphbgpggdiikppg/reviews',\n",
       " 'https://duckduckgo.com/app',\n",
       " 'https://duckduckgo.com/app',\n",
       " 'https://duckduckgo.com/settings#theme',\n",
       " 'https://duckduckgo.com/settings',\n",
       " 'https://duckduckgo.com/bangs',\n",
       " 'https://duckduckgo.com/',\n",
       " 'https://duckduckgo.com/app',\n",
       " 'https://spreadprivacy.com/',\n",
       " 'https://duckduckgo.com/newsletter',\n",
       " 'https://duckduckgo.com/spread',\n",
       " 'https://duckduckgo.com/about',\n",
       " 'https://duckduckgo.com/privacy',\n",
       " 'https://duckduckgo.com/hiring',\n",
       " 'https://duckduckgo.com/press',\n",
       " 'https://twitter.com/duckduckgo',\n",
       " 'https://duckduckgo.merchmadeeasy.com/',\n",
       " 'https://reddit.com/r/duckduckgo',\n",
       " 'https://help.duckduckgo.com/',\n",
       " None,\n",
       " None,\n",
       " None,\n",
       " None,\n",
       " None,\n",
       " 'https://twitter.com/?status=DuckDuckGo%20is%20my%20search%20engine%20of%20choice.%20%23ComeToTheDuckSide%20-%20we%20have%20privacy.%20https%3A%2F%2Fduckduckgo.com%2F%231',\n",
       " 'https://spreadprivacy.com/duckduckgo-revenue-model/',\n",
       " 'https://spreadprivacy.com/what-does-google-know-about-me/',\n",
       " 'https://duckduckgo.com/app',\n",
       " 'https://spreadprivacy.com/why-use-duckduckgo-instead-of-google/',\n",
       " 'https://duckduckgo.com/bang',\n",
       " 'https://spreadprivacy.com/is-duckduckgo-a-good-search-engine/',\n",
       " 'https://spreadprivacy.com/how-anonymous-is-duckduckgo/',\n",
       " 'https://duckduckgo.com/traffic',\n",
       " 'https://spreadprivacy.com/how-many-people-use-duckduckgo/',\n",
       " 'https://spreadprivacy.com/how-does-the-duckduckgo-app-extension-protect-my-privacy/',\n",
       " None]"
      ]
     },
     "execution_count": 45,
     "metadata": {},
     "output_type": "execute_result"
    }
   ],
   "source": [
    "from composable.strict import map\n",
    "\n",
    "(a_tags\n",
    ">> map(get_attribute('href'))\n",
    ")"
   ]
  },
  {
   "cell_type": "code",
   "execution_count": 5,
   "metadata": {},
   "outputs": [],
   "source": [
    "input_field = driver.find_element_by_id('search_form_input_homepage')\n",
    "input_button = driver.find_element_by_id('search_button_homepage')"
   ]
  },
  {
   "cell_type": "code",
   "execution_count": 6,
   "metadata": {},
   "outputs": [],
   "source": [
    "input_field.send_keys('Silas Bergen')"
   ]
  },
  {
   "cell_type": "code",
   "execution_count": 7,
   "metadata": {},
   "outputs": [],
   "source": [
    "input_button.click()"
   ]
  },
  {
   "cell_type": "code",
   "execution_count": null,
   "metadata": {
    "scrolled": true
   },
   "outputs": [],
   "source": []
  },
  {
   "cell_type": "markdown",
   "metadata": {},
   "source": [
    "<font color=\"red\"> Exercise 2 </font> \n",
    "\n",
    "Use `selenium` to get the links for all of the results shown on the page.\n"
   ]
  },
  {
   "cell_type": "code",
   "execution_count": 30,
   "metadata": {},
   "outputs": [
    {
     "data": {
      "text/plain": [
       "'https://duckduckgo.com/?q=Silas+Bergen&t=h_&ia=web'"
      ]
     },
     "execution_count": 30,
     "metadata": {},
     "output_type": "execute_result"
    }
   ],
   "source": [
    "driver.current_url"
   ]
  },
  {
   "cell_type": "code",
   "execution_count": 31,
   "metadata": {
    "scrolled": true
   },
   "outputs": [
    {
     "data": {
      "text/plain": [
       "[<selenium.webdriver.remote.webelement.WebElement (session=\"b50d94e65ce09592982bbb20658fad29\", element=\"a7976503-4b40-4825-a369-691b5c5a09fd\")>,\n",
       " <selenium.webdriver.remote.webelement.WebElement (session=\"b50d94e65ce09592982bbb20658fad29\", element=\"8bbde7ee-0426-4ff8-91cf-15d78b1b70eb\")>,\n",
       " <selenium.webdriver.remote.webelement.WebElement (session=\"b50d94e65ce09592982bbb20658fad29\", element=\"a9469b23-46a4-4330-b27f-b96458632de4\")>,\n",
       " <selenium.webdriver.remote.webelement.WebElement (session=\"b50d94e65ce09592982bbb20658fad29\", element=\"4f44322e-91f3-4b0a-9116-7822bc14c7f7\")>,\n",
       " <selenium.webdriver.remote.webelement.WebElement (session=\"b50d94e65ce09592982bbb20658fad29\", element=\"e3eecd14-8785-4022-9a4a-bd90c3d28dbc\")>,\n",
       " <selenium.webdriver.remote.webelement.WebElement (session=\"b50d94e65ce09592982bbb20658fad29\", element=\"24295a13-f7ab-49ea-98be-1fb16e03d4ab\")>,\n",
       " <selenium.webdriver.remote.webelement.WebElement (session=\"b50d94e65ce09592982bbb20658fad29\", element=\"411c61bc-13c8-4956-ae97-1ee3dfc96ba4\")>,\n",
       " <selenium.webdriver.remote.webelement.WebElement (session=\"b50d94e65ce09592982bbb20658fad29\", element=\"3b7449b5-db20-4458-abe4-9515446869d2\")>,\n",
       " <selenium.webdriver.remote.webelement.WebElement (session=\"b50d94e65ce09592982bbb20658fad29\", element=\"8a2b6fe5-6b8c-4cb1-9628-1260f5fd5ab3\")>,\n",
       " <selenium.webdriver.remote.webelement.WebElement (session=\"b50d94e65ce09592982bbb20658fad29\", element=\"6734b1ba-8092-4917-8b25-4fb591c20088\")>,\n",
       " <selenium.webdriver.remote.webelement.WebElement (session=\"b50d94e65ce09592982bbb20658fad29\", element=\"781893c6-e3da-414d-b938-625da28fb4f4\")>,\n",
       " <selenium.webdriver.remote.webelement.WebElement (session=\"b50d94e65ce09592982bbb20658fad29\", element=\"3d583052-1d87-4b75-b631-f4588568f08f\")>,\n",
       " <selenium.webdriver.remote.webelement.WebElement (session=\"b50d94e65ce09592982bbb20658fad29\", element=\"b6f9d9ca-d31b-4621-904c-1bbeaa97afd7\")>,\n",
       " <selenium.webdriver.remote.webelement.WebElement (session=\"b50d94e65ce09592982bbb20658fad29\", element=\"cf465392-8b67-455c-883d-740233b7805d\")>]"
      ]
     },
     "execution_count": 31,
     "metadata": {},
     "output_type": "execute_result"
    }
   ],
   "source": [
    "find_urls = driver.find_elements_by_class_name('result__a')\n",
    "find_urls"
   ]
  },
  {
   "cell_type": "code",
   "execution_count": 32,
   "metadata": {
    "scrolled": true
   },
   "outputs": [
    {
     "data": {
      "text/plain": [
       "['http://driftlessdata.space/',\n",
       " 'http://driftlessdata.space/courses/dsci310/dsci310-home/',\n",
       " 'http://driftlessdata.space/post/makeovermondayweek2-pesticides/',\n",
       " 'http://driftlessdata.space/post/vitruvian/',\n",
       " 'http://driftlessdata.space/post/summarytools/',\n",
       " 'https://www.linkedin.com/in/silas-bergen-3039b785',\n",
       " 'https://www.ratemyprofessors.com/ShowRatings.jsp?tid=1946369',\n",
       " 'https://www.instantcheckmate.com/people/silas-bergen/',\n",
       " 'https://public.tableau.com/profile/silas.bergen#!',\n",
       " 'https://github.com/silasbergen/',\n",
       " 'https://mylife.com/silas-bergen/e6039070026648',\n",
       " 'https://www.sanctuarycrc.org/in-our-world-silas-bergen-february-2013/',\n",
       " 'http://driftlessdata.space/courses/dsci310/midterm/',\n",
       " 'https://silasbergen.github.io/DSCI310-F17/Syllabus.html']"
      ]
     },
     "execution_count": 32,
     "metadata": {},
     "output_type": "execute_result"
    }
   ],
   "source": [
    "list_links = [a.get_attribute('href') for a in find_urls]\n",
    "list_links"
   ]
  },
  {
   "cell_type": "code",
   "execution_count": 18,
   "metadata": {},
   "outputs": [
    {
     "data": {
      "text/plain": [
       "['http://driftlessdata.space/',\n",
       " 'http://driftlessdata.space/courses/dsci310/dsci310-home/',\n",
       " 'http://driftlessdata.space/post/makeovermondayweek2-pesticides/',\n",
       " 'http://driftlessdata.space/post/vitruvian/',\n",
       " 'http://driftlessdata.space/post/summarytools/',\n",
       " 'https://www.linkedin.com/in/silas-bergen-3039b785',\n",
       " 'https://public.tableau.com/profile/silas.bergen#!',\n",
       " 'https://www.ratemyprofessors.com/ShowRatings.jsp?tid=1946369',\n",
       " 'https://www.instantcheckmate.com/people/silas-bergen/',\n",
       " 'https://github.com/silasbergen/',\n",
       " 'https://mylife.com/silas-bergen/e6039070026648',\n",
       " 'https://www.sanctuarycrc.org/in-our-world-silas-bergen-february-2013/',\n",
       " 'https://public.tableau.com/profile/silas.bergen#!/vizhome/Uncertainty_0/Dashboard1',\n",
       " 'https://silasbergen.github.io/DSCI310-F17/Syllabus.html']"
      ]
     },
     "execution_count": 18,
     "metadata": {},
     "output_type": "execute_result"
    }
   ],
   "source": [
    "list_links_filtered = list_links\n",
    "list_links_filtered"
   ]
  },
  {
   "cell_type": "code",
   "execution_count": null,
   "metadata": {},
   "outputs": [],
   "source": []
  },
  {
   "cell_type": "code",
   "execution_count": null,
   "metadata": {},
   "outputs": [],
   "source": []
  },
  {
   "cell_type": "markdown",
   "metadata": {},
   "source": [
    "<font color=\"red\"> Exercise 3 </font> \n",
    "\n",
    "Suppose that we want more than 1 page of results.  Inspect the page and find the more button. **Hint:** Right click won't work here, you will need to inspect a nearby element then navigate to the element in the console.\n",
    "\n",
    "Once you have found this button, click it at least three times, then get all of search result links."
   ]
  },
  {
   "cell_type": "code",
   "execution_count": 33,
   "metadata": {
    "scrolled": true
   },
   "outputs": [
    {
     "data": {
      "text/plain": [
       "<selenium.webdriver.remote.webelement.WebElement (session=\"b50d94e65ce09592982bbb20658fad29\", element=\"390d1b08-1108-4a88-ab67-ecd7258579af\")>"
      ]
     },
     "execution_count": 33,
     "metadata": {},
     "output_type": "execute_result"
    }
   ],
   "source": [
    "more_button = driver.find_element_by_id('rld-1')\n",
    "more_button"
   ]
  },
  {
   "cell_type": "code",
   "execution_count": 34,
   "metadata": {},
   "outputs": [
    {
     "data": {
      "text/plain": [
       "'result result--more'"
      ]
     },
     "execution_count": 34,
     "metadata": {},
     "output_type": "execute_result"
    }
   ],
   "source": [
    "more_button.get_attribute('class')"
   ]
  },
  {
   "cell_type": "code",
   "execution_count": 37,
   "metadata": {},
   "outputs": [],
   "source": [
    "more_button.click()"
   ]
  },
  {
   "cell_type": "code",
   "execution_count": 38,
   "metadata": {
    "scrolled": true
   },
   "outputs": [
    {
     "data": {
      "text/plain": [
       "[<selenium.webdriver.remote.webelement.WebElement (session=\"b50d94e65ce09592982bbb20658fad29\", element=\"a7976503-4b40-4825-a369-691b5c5a09fd\")>,\n",
       " <selenium.webdriver.remote.webelement.WebElement (session=\"b50d94e65ce09592982bbb20658fad29\", element=\"8bbde7ee-0426-4ff8-91cf-15d78b1b70eb\")>,\n",
       " <selenium.webdriver.remote.webelement.WebElement (session=\"b50d94e65ce09592982bbb20658fad29\", element=\"a9469b23-46a4-4330-b27f-b96458632de4\")>,\n",
       " <selenium.webdriver.remote.webelement.WebElement (session=\"b50d94e65ce09592982bbb20658fad29\", element=\"4f44322e-91f3-4b0a-9116-7822bc14c7f7\")>,\n",
       " <selenium.webdriver.remote.webelement.WebElement (session=\"b50d94e65ce09592982bbb20658fad29\", element=\"e3eecd14-8785-4022-9a4a-bd90c3d28dbc\")>,\n",
       " <selenium.webdriver.remote.webelement.WebElement (session=\"b50d94e65ce09592982bbb20658fad29\", element=\"24295a13-f7ab-49ea-98be-1fb16e03d4ab\")>,\n",
       " <selenium.webdriver.remote.webelement.WebElement (session=\"b50d94e65ce09592982bbb20658fad29\", element=\"411c61bc-13c8-4956-ae97-1ee3dfc96ba4\")>,\n",
       " <selenium.webdriver.remote.webelement.WebElement (session=\"b50d94e65ce09592982bbb20658fad29\", element=\"3b7449b5-db20-4458-abe4-9515446869d2\")>,\n",
       " <selenium.webdriver.remote.webelement.WebElement (session=\"b50d94e65ce09592982bbb20658fad29\", element=\"8a2b6fe5-6b8c-4cb1-9628-1260f5fd5ab3\")>,\n",
       " <selenium.webdriver.remote.webelement.WebElement (session=\"b50d94e65ce09592982bbb20658fad29\", element=\"6734b1ba-8092-4917-8b25-4fb591c20088\")>,\n",
       " <selenium.webdriver.remote.webelement.WebElement (session=\"b50d94e65ce09592982bbb20658fad29\", element=\"781893c6-e3da-414d-b938-625da28fb4f4\")>,\n",
       " <selenium.webdriver.remote.webelement.WebElement (session=\"b50d94e65ce09592982bbb20658fad29\", element=\"3d583052-1d87-4b75-b631-f4588568f08f\")>,\n",
       " <selenium.webdriver.remote.webelement.WebElement (session=\"b50d94e65ce09592982bbb20658fad29\", element=\"b6f9d9ca-d31b-4621-904c-1bbeaa97afd7\")>,\n",
       " <selenium.webdriver.remote.webelement.WebElement (session=\"b50d94e65ce09592982bbb20658fad29\", element=\"cf465392-8b67-455c-883d-740233b7805d\")>,\n",
       " <selenium.webdriver.remote.webelement.WebElement (session=\"b50d94e65ce09592982bbb20658fad29\", element=\"10e9615e-151f-4d7c-be6e-f208421e0830\")>,\n",
       " <selenium.webdriver.remote.webelement.WebElement (session=\"b50d94e65ce09592982bbb20658fad29\", element=\"a69bf2cb-0904-4a87-a767-fd8184565404\")>,\n",
       " <selenium.webdriver.remote.webelement.WebElement (session=\"b50d94e65ce09592982bbb20658fad29\", element=\"1eccf231-5b1e-4890-bb1e-5610aeb91721\")>,\n",
       " <selenium.webdriver.remote.webelement.WebElement (session=\"b50d94e65ce09592982bbb20658fad29\", element=\"86b7dfee-5da8-4db9-b5d0-e6740cff9aa5\")>,\n",
       " <selenium.webdriver.remote.webelement.WebElement (session=\"b50d94e65ce09592982bbb20658fad29\", element=\"60038fa8-df57-4125-a3ed-7f65386cdb13\")>,\n",
       " <selenium.webdriver.remote.webelement.WebElement (session=\"b50d94e65ce09592982bbb20658fad29\", element=\"1c0f788a-ccea-4fd5-acb2-986e7ce83aab\")>,\n",
       " <selenium.webdriver.remote.webelement.WebElement (session=\"b50d94e65ce09592982bbb20658fad29\", element=\"bb9a49b3-53a6-4632-bcd4-e56930902138\")>,\n",
       " <selenium.webdriver.remote.webelement.WebElement (session=\"b50d94e65ce09592982bbb20658fad29\", element=\"1ec1b7e6-ee2a-4a9b-9a65-4571c3620257\")>,\n",
       " <selenium.webdriver.remote.webelement.WebElement (session=\"b50d94e65ce09592982bbb20658fad29\", element=\"64a22e61-c1e6-47e8-8525-06b7c01ed431\")>,\n",
       " <selenium.webdriver.remote.webelement.WebElement (session=\"b50d94e65ce09592982bbb20658fad29\", element=\"350e1347-61f9-4894-a94c-d534f0deee57\")>,\n",
       " <selenium.webdriver.remote.webelement.WebElement (session=\"b50d94e65ce09592982bbb20658fad29\", element=\"51ec3b09-8f89-4860-a6f3-ad995a56fc01\")>,\n",
       " <selenium.webdriver.remote.webelement.WebElement (session=\"b50d94e65ce09592982bbb20658fad29\", element=\"cf534763-b177-452c-8037-4fae7d8b79f8\")>,\n",
       " <selenium.webdriver.remote.webelement.WebElement (session=\"b50d94e65ce09592982bbb20658fad29\", element=\"03ecce19-7bb9-4e3a-912e-a3b60d1f3e13\")>,\n",
       " <selenium.webdriver.remote.webelement.WebElement (session=\"b50d94e65ce09592982bbb20658fad29\", element=\"44941766-93ff-45b4-b4de-184fe1f9fb6f\")>,\n",
       " <selenium.webdriver.remote.webelement.WebElement (session=\"b50d94e65ce09592982bbb20658fad29\", element=\"d56d4132-9b15-43c3-a21c-083e8b479f40\")>,\n",
       " <selenium.webdriver.remote.webelement.WebElement (session=\"b50d94e65ce09592982bbb20658fad29\", element=\"e35e6d70-169a-44a9-9070-8edec6f5e3ae\")>,\n",
       " <selenium.webdriver.remote.webelement.WebElement (session=\"b50d94e65ce09592982bbb20658fad29\", element=\"3844ed94-49f9-4c9c-8eda-80eb76ca91cd\")>,\n",
       " <selenium.webdriver.remote.webelement.WebElement (session=\"b50d94e65ce09592982bbb20658fad29\", element=\"df3516c2-a6e3-49cf-9e6e-dd32577ea122\")>,\n",
       " <selenium.webdriver.remote.webelement.WebElement (session=\"b50d94e65ce09592982bbb20658fad29\", element=\"d050fb85-6d76-47a8-90b6-a0b633a01770\")>,\n",
       " <selenium.webdriver.remote.webelement.WebElement (session=\"b50d94e65ce09592982bbb20658fad29\", element=\"2deace09-5b96-489e-b56a-a847c582bc27\")>]"
      ]
     },
     "execution_count": 38,
     "metadata": {},
     "output_type": "execute_result"
    }
   ],
   "source": [
    "more_find_urls = driver.find_elements_by_class_name('result__a')\n",
    "more_find_urls"
   ]
  },
  {
   "cell_type": "code",
   "execution_count": 39,
   "metadata": {},
   "outputs": [
    {
     "data": {
      "text/plain": [
       "34"
      ]
     },
     "execution_count": 39,
     "metadata": {},
     "output_type": "execute_result"
    }
   ],
   "source": [
    "len(more_find_urls)"
   ]
  },
  {
   "cell_type": "code",
   "execution_count": 40,
   "metadata": {},
   "outputs": [
    {
     "data": {
      "text/plain": [
       "14"
      ]
     },
     "execution_count": 40,
     "metadata": {},
     "output_type": "execute_result"
    }
   ],
   "source": [
    "len(find_urls)"
   ]
  },
  {
   "cell_type": "code",
   "execution_count": 42,
   "metadata": {},
   "outputs": [],
   "source": [
    "more_links = [a.get_attribute('href') for a in more_find_urls]"
   ]
  },
  {
   "cell_type": "code",
   "execution_count": 132,
   "metadata": {
    "scrolled": true
   },
   "outputs": [
    {
     "data": {
      "text/plain": [
       "['http://driftlessdata.space/',\n",
       " 'http://driftlessdata.space/courses/dsci310/dsci310-home/',\n",
       " 'http://driftlessdata.space/post/makeovermondayweek2-pesticides/',\n",
       " 'http://driftlessdata.space/post/vitruvian/',\n",
       " 'http://driftlessdata.space/post/summarytools/',\n",
       " 'https://www.linkedin.com/in/silas-bergen-3039b785',\n",
       " 'https://www.ratemyprofessors.com/ShowRatings.jsp?tid=1946369',\n",
       " 'https://www.instantcheckmate.com/people/silas-bergen/',\n",
       " 'https://public.tableau.com/profile/silas.bergen#!',\n",
       " 'https://github.com/silasbergen/',\n",
       " 'https://myspace.com/287027346',\n",
       " 'https://mylife.com/silas-bergen/e6039070026648',\n",
       " 'http://driftlessdata.space/courses/dsci310/midterm/',\n",
       " 'https://public.tableau.com/profile/silas.bergen#!/vizhome/Uncertainty_0/Dashboard1',\n",
       " 'https://silasbergen.github.io/DSCI310-F17/Syllabus.html',\n",
       " 'https://jimmyjhickey.github.io/old-site/silas.html',\n",
       " 'https://silasbergen.github.io/DSCI310-F17/Midterm.html',\n",
       " 'https://www.researchgate.net/scientific-contributions/Silas-Bergen-2009213336',\n",
       " 'https://es-la.facebook.com/public/Silas-Bergen',\n",
       " 'https://www.goodreads.com/user/show/55807579-silas-bergen',\n",
       " 'https://www.findagrave.com/memorial/71758675/laverne-silas-dewees',\n",
       " 'https://www.intelius.com/people-search/Silas-Bergen',\n",
       " 'https://vimeo.com/user37861542',\n",
       " 'https://news.winona.edu/tag/dr-silas-bergen/',\n",
       " 'https://www.researchgate.net/scientific-contributions/2009213336_Silas_Bergen',\n",
       " 'https://www.winonadailynews.com/announcements/births/births/article_58ee3fb1-1c37-5f26-a6ca-45f82db7db42.html',\n",
       " 'https://www.uib.no/en/persons/Ulysses.Silas.Ninnemann',\n",
       " 'http://iase-web.org/documents/papers/rt2016/Bergen.pdf?1482484528',\n",
       " 'https://www.winonapost.com/News/Schools/ArticleID/51574/WSU-wins-statistics-grant',\n",
       " 'https://bigdatatech2017.sched.com/sbergen',\n",
       " 'http://www.winonapost.com/Article/ArticleID/51574/WSU-wins-statistics-grant',\n",
       " 'https://onlinelibrary.wiley.com/doi/abs/10.1002/job.4030020205',\n",
       " 'http://citeseerx.ist.psu.edu/viewdoc/summary?doi=10.1.1.370.7976',\n",
       " 'https://www.spokeo.com/Lydia-Bergen']"
      ]
     },
     "execution_count": 132,
     "metadata": {},
     "output_type": "execute_result"
    }
   ],
   "source": [
    "more_links"
   ]
  },
  {
   "cell_type": "markdown",
   "metadata": {},
   "source": [
    "## Headless operation\n",
    "\n",
    "While the extra window is useful for exploring results, it gets annoying when rerunning common searches.  In this case, we want to run the search in headless mode."
   ]
  },
  {
   "cell_type": "code",
   "execution_count": null,
   "metadata": {},
   "outputs": [],
   "source": [
    "from selenium import webdriver\n",
    "from selenium.webdriver.chrome.options import Options\n",
    "\n",
    "options = Options()\n",
    "options.headless = True\n",
    "options.add_argument(\"--window-size=1920,1200\")\n",
    "\n",
    "driver = webdriver.Chrome(options=options, executable_path=DRIVER_PATH)\n",
    "driver.get(\"https://www.nintendo.com/\")\n",
    "print(driver.page_source)\n",
    "driver.quit()"
   ]
  }
 ],
 "metadata": {
  "kernelspec": {
   "display_name": "Python 3",
   "language": "python",
   "name": "python3"
  },
  "language_info": {
   "codemirror_mode": {
    "name": "ipython",
    "version": 3
   },
   "file_extension": ".py",
   "mimetype": "text/x-python",
   "name": "python",
   "nbconvert_exporter": "python",
   "pygments_lexer": "ipython3",
   "version": "3.7.6"
  }
 },
 "nbformat": 4,
 "nbformat_minor": 4
}
